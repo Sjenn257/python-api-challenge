{
 "cells": [
  {
   "cell_type": "markdown",
   "metadata": {},
   "source": [
    "# WeatherPy\n",
    "----\n",
    "\n",
    "#### Note\n",
    "* Instructions have been included for each segment. You do not have to follow them exactly, but they are included to help you think through the steps."
   ]
  },
  {
   "cell_type": "code",
   "execution_count": 62,
   "metadata": {
    "scrolled": true
   },
   "outputs": [],
   "source": [
    "# Dependencies and Setup\n",
    "import matplotlib.pyplot as plt\n",
    "import pandas as pd\n",
    "import numpy as np\n",
    "import requests\n",
    "import time\n",
    "from scipy.stats import linregress\n",
    "\n",
    "# Import API key\n",
    "from api_keys import weather_api_key\n",
    "\n",
    "# Incorporated citipy to determine city based on latitude and longitude\n",
    "from citipy import citipy\n",
    "\n",
    "# Output File (CSV)\n",
    "output_data_file = \"output/cities.csv\"\n",
    "\n",
    "# Range of latitudes and longitudes\n",
    "lat_range = (-90, 90)\n",
    "lng_range = (-180, 180)"
   ]
  },
  {
   "cell_type": "markdown",
   "metadata": {},
   "source": [
    "## Generate Cities List"
   ]
  },
  {
   "cell_type": "code",
   "execution_count": 63,
   "metadata": {},
   "outputs": [],
   "source": [
    "# List for holding lat_lngs and cities\n",
    "lat_lngs = []\n",
    "cities = []\n",
    "\n",
    "# Create a set of random lat and lng combinations\n",
    "lats = np.random.uniform(lat_range[0], lat_range[1], size=1500)\n",
    "lngs = np.random.uniform(lng_range[0], lng_range[1], size=1500)\n",
    "lat_lngs = zip(lats, lngs)"
   ]
  },
  {
   "cell_type": "code",
   "execution_count": 64,
   "metadata": {},
   "outputs": [
    {
     "data": {
      "text/plain": [
       "634"
      ]
     },
     "execution_count": 64,
     "metadata": {},
     "output_type": "execute_result"
    }
   ],
   "source": [
    "# Identify nearest city for each lat, lng combination\n",
    "for lat_lng in lat_lngs:\n",
    "    city = citipy.nearest_city(lat_lng[0], lat_lng[1]).city_name.capitalize()\n",
    "    \n",
    "    # If the city is unique, then add it to a our cities list\n",
    "    if city not in cities:\n",
    "        cities.append(city)\n",
    "\n",
    "        \n",
    "    \n",
    "# Print the city count to confirm sufficient count\n",
    "len(cities)"
   ]
  },
  {
   "cell_type": "markdown",
   "metadata": {},
   "source": [
    "### Perform API Calls\n",
    "* Perform a weather check on each city using a series of successive API calls.\n",
    "* Include a print log of each city as it'sbeing processed (with the city number and city name).\n"
   ]
  },
  {
   "cell_type": "code",
   "execution_count": 37,
   "metadata": {
    "scrolled": true
   },
   "outputs": [
    {
     "data": {
      "text/plain": [
       "'http://api.openweathermap.org/data/2.5/weather?appid=bf07decb51285129e7d8fc3985511c02&units=imperial&q='"
      ]
     },
     "execution_count": 37,
     "metadata": {},
     "output_type": "execute_result"
    }
   ],
   "source": [
    "# Set up URL\n",
    "\n",
    "url = \"http://api.openweathermap.org/data/2.5/weather?\"\n",
    "units=\"imperial\"\n",
    "\n",
    "# Build partial query URL\n",
    "query_url = f\"{url}appid={weather_api_key}&units={units}&q=\"\n",
    "\n",
    "query_url"
   ]
  },
  {
   "cell_type": "code",
   "execution_count": 60,
   "metadata": {},
   "outputs": [
    {
     "name": "stdout",
     "output_type": "stream",
     "text": [
      "Beginning Data Retrieval\n",
      "--------------------\n",
      "Processing Record 1 | Rikitea\n",
      "Processing Record 2 | Kapaa\n",
      "**Bargal not found. Skipping...**\n",
      "Processing Record 3 | Saldanha\n",
      "Processing Record 4 | Clyde river\n",
      "Processing Record 5 | Solnechnyy\n",
      "Processing Record 6 | Grindavik\n",
      "Processing Record 7 | Bluff\n",
      "Processing Record 8 | Taber\n",
      "Processing Record 9 | Road town\n",
      "Processing Record 10 | Kodiak\n",
      "Processing Record 11 | Aklavik\n",
      "Processing Record 12 | Rio gallegos\n",
      "Processing Record 13 | Kloulklubed\n",
      "Processing Record 14 | Alyangula\n",
      "Processing Record 15 | Hithadhoo\n",
      "Processing Record 16 | Hermanus\n",
      "Processing Record 17 | Iqaluit\n",
      "**Nizhneyansk not found. Skipping...**\n",
      "Processing Record 18 | Airai\n",
      "Processing Record 19 | Nome\n",
      "Processing Record 20 | Mataura\n",
      "Processing Record 21 | Norman wells\n",
      "Processing Record 22 | Khatanga\n",
      "Processing Record 23 | Barrow\n",
      "Processing Record 24 | Mayor pablo lagerenza\n",
      "Processing Record 25 | Puerto ayora\n",
      "Processing Record 26 | Tuatapere\n",
      "**Toliary not found. Skipping...**\n",
      "Processing Record 27 | Kruisfontein\n",
      "Processing Record 28 | Pemangkat\n",
      "Processing Record 29 | Baracoa\n",
      "Processing Record 30 | Riyadh\n",
      "**Belushya guba not found. Skipping...**\n",
      "Processing Record 31 | Bethel\n",
      "**Amderma not found. Skipping...**\n",
      "Processing Record 32 | Hagere hiywet\n",
      "Processing Record 33 | Maxixe\n",
      "Processing Record 34 | Clyde\n",
      "Processing Record 35 | Qaanaaq\n",
      "Processing Record 36 | Nikolskoye\n",
      "Processing Record 37 | Sitka\n",
      "Processing Record 38 | Ballina\n",
      "Processing Record 39 | Biak\n",
      "Processing Record 40 | Paciran\n",
      "Processing Record 41 | Jamestown\n",
      "**Barentsburg not found. Skipping...**\n",
      "Processing Record 42 | Kikuchi\n",
      "Processing Record 43 | Chuy\n",
      "**Bolungarvik not found. Skipping...**\n",
      "Processing Record 44 | Contamana\n",
      "Processing Record 45 | The pas\n",
      "Processing Record 46 | Minot\n",
      "Processing Record 47 | Bilibino\n",
      "Processing Record 48 | Maceio\n",
      "Processing Record 49 | Aguimes\n",
      "**Tsihombe not found. Skipping...**\n",
      "Processing Record 50 | Guerrero negro\n",
      "Processing Record 51 | Butaritari\n",
      "Processing Record 52 | Punta arenas\n",
      "Processing Record 53 | Hilo\n",
      "Processing Record 54 | Outram\n",
      "Processing Record 55 | Avera\n",
      "**Saleaula not found. Skipping...**\n",
      "Processing Record 56 | Conceicao da barra\n",
      "**Tumannyy not found. Skipping...**\n",
      "Processing Record 57 | Bambous virieux\n",
      "**Taolanaro not found. Skipping...**\n",
      "Processing Record 58 | Avarua\n",
      "Processing Record 59 | Russell\n",
      "Processing Record 60 | Chokurdakh\n",
      "Processing Record 61 | Hobart\n",
      "**Umzimvubu not found. Skipping...**\n",
      "Processing Record 62 | Lebu\n",
      "Processing Record 63 | Bredasdorp\n",
      "Processing Record 64 | Albany\n",
      "Processing Record 65 | Provideniya\n",
      "Processing Record 66 | Port-cartier\n",
      "Processing Record 67 | Cherskiy\n",
      "Processing Record 68 | Husavik\n",
      "Processing Record 69 | Ostrovnoy\n",
      "Processing Record 70 | Pevek\n",
      "Processing Record 71 | Namie\n",
      "Processing Record 72 | Shestakovo\n",
      "Processing Record 73 | Faanui\n",
      "Processing Record 74 | Omsukchan\n",
      "Processing Record 75 | Xai-xai\n",
      "Processing Record 76 | Whitehorse\n",
      "Processing Record 77 | East london\n",
      "Processing Record 78 | Lata\n",
      "Processing Record 79 | Esperance\n",
      "Processing Record 80 | Banjar\n",
      "Processing Record 81 | Gat\n",
      "Processing Record 82 | Port alfred\n",
      "Processing Record 83 | Ushuaia\n",
      "Processing Record 84 | Olafsvik\n",
      "Processing Record 85 | Gilgit\n",
      "Processing Record 86 | Roald\n",
      "Processing Record 87 | Haines junction\n",
      "Processing Record 88 | Talnakh\n",
      "Processing Record 89 | Krasnovishersk\n",
      "Processing Record 90 | Suzun\n",
      "Processing Record 91 | Saint george\n",
      "Processing Record 92 | Libreville\n",
      "Processing Record 93 | Djougou\n",
      "Processing Record 94 | Anloga\n",
      "Processing Record 95 | Kaitangata\n",
      "Processing Record 96 | Ribeira grande\n",
      "Processing Record 97 | Mahebourg\n",
      "Processing Record 98 | Sao filipe\n",
      "**Attawapiskat not found. Skipping...**\n",
      "Processing Record 99 | Harrison\n",
      "Processing Record 100 | Boa vista\n",
      "Processing Record 101 | Ilulissat\n",
      "Processing Record 102 | Kudahuvadhoo\n",
      "Processing Record 103 | Ugoofaaru\n",
      "Processing Record 104 | Pingliang\n",
      "Processing Record 105 | Namatanai\n",
      "**Grand river south east not found. Skipping...**\n",
      "Processing Record 106 | Ponta do sol\n",
      "Processing Record 107 | Mogadishu\n",
      "Processing Record 108 | Boguchany\n",
      "Processing Record 109 | Xining\n",
      "Processing Record 110 | Ansermanuevo\n",
      "Processing Record 111 | Sunland park\n",
      "Processing Record 112 | Buala\n",
      "Processing Record 113 | Lorengau\n",
      "Processing Record 114 | Yellowknife\n",
      "Processing Record 115 | Planadas\n",
      "Processing Record 116 | Ahipara\n",
      "Processing Record 117 | Vaini\n",
      "Processing Record 118 | Kamaishi\n",
      "Processing Record 119 | Sao joao da barra\n",
      "Processing Record 120 | Okhotsk\n",
      "Processing Record 121 | La reforma\n",
      "Processing Record 122 | Tiksi\n",
      "Processing Record 123 | Nacala\n",
      "Processing Record 124 | Tuktoyaktuk\n",
      "Processing Record 125 | Aleksandrovskiy zavod\n",
      "Processing Record 126 | Dingle\n",
      "Processing Record 127 | Katangli\n",
      "Processing Record 128 | Cape town\n",
      "Processing Record 129 | Castro\n",
      "Processing Record 130 | Port-gentil\n",
      "Processing Record 131 | Santiago del estero\n",
      "Processing Record 132 | Jaggayyapeta\n",
      "Processing Record 133 | Bereda\n",
      "Processing Record 134 | Souillac\n",
      "Processing Record 135 | Alibag\n",
      "Processing Record 136 | Linxia\n",
      "Processing Record 137 | Atambua\n",
      "Processing Record 138 | San patricio\n",
      "**Samusu not found. Skipping...**\n",
      "Processing Record 139 | Cidreira\n",
      "Processing Record 140 | Darnah\n",
      "**Louisbourg not found. Skipping...**\n",
      "Processing Record 141 | Arraial do cabo\n",
      "Processing Record 142 | Craig\n",
      "Processing Record 143 | Acapulco\n",
      "Processing Record 144 | Busselton\n",
      "Processing Record 145 | Takaungu\n",
      "Processing Record 146 | La romana\n",
      "Processing Record 147 | Asau\n",
      "Processing Record 148 | Sharan\n",
      "Processing Record 149 | Georgetown\n",
      "Processing Record 150 | Merrill\n",
      "Processing Record 151 | Tambo\n",
      "Processing Record 152 | Skibbereen\n",
      "Processing Record 153 | Nerchinskiy zavod\n",
      "Processing Record 154 | Berlevag\n",
      "Processing Record 155 | Vila franca do campo\n",
      "Processing Record 156 | Aswan\n",
      "Processing Record 157 | Malanje\n",
      "Processing Record 158 | Dalmatovo\n",
      "Processing Record 159 | Tahta\n",
      "Processing Record 160 | Narsaq\n",
      "Processing Record 161 | Buenos aires\n",
      "Processing Record 162 | Manggar\n",
      "**Illoqqortoormiut not found. Skipping...**\n",
      "Processing Record 163 | Atuona\n",
      "Processing Record 164 | Tahe\n",
      "Processing Record 165 | Ngorongoro\n",
      "**Sentyabrskiy not found. Skipping...**\n",
      "Processing Record 166 | Lander\n",
      "Processing Record 167 | Arkhara\n",
      "Processing Record 168 | Maragogi\n",
      "Processing Record 169 | Longyearbyen\n",
      "Processing Record 170 | Kishtwar\n",
      "**Chagda not found. Skipping...**\n",
      "Processing Record 171 | Poplar bluff\n",
      "Processing Record 172 | Port blair\n",
      "**Longlac not found. Skipping...**\n",
      "Processing Record 173 | Caravelas\n",
      "Processing Record 174 | Yar-sale\n",
      "Processing Record 175 | Mineiros\n",
      "Processing Record 176 | Kavieng\n",
      "Processing Record 177 | Mildura\n",
      "Processing Record 178 | Carauari\n",
      "Processing Record 179 | Post falls\n",
      "Processing Record 180 | Pisco\n",
      "Processing Record 181 | College\n",
      "Processing Record 182 | Urozhaynoye\n",
      "Processing Record 183 | Palmer\n",
      "Processing Record 184 | Ferrol\n",
      "Processing Record 185 | Rawlins\n",
      "Processing Record 186 | Gewane\n",
      "Processing Record 187 | Bulaevo\n",
      "Processing Record 188 | Grand gaube\n",
      "Processing Record 189 | Rawson\n",
      "Processing Record 190 | Baturaja\n",
      "Processing Record 191 | Ixtapa\n",
      "Processing Record 192 | Madison\n",
      "Processing Record 193 | Upernavik\n",
      "Processing Record 194 | Oussouye\n",
      "Processing Record 195 | Mar del plata\n",
      "Processing Record 196 | Tura\n",
      "Processing Record 197 | Foumban\n",
      "Processing Record 198 | Makinsk\n",
      "Processing Record 199 | Raudeberg\n",
      "Processing Record 200 | Tasiilaq\n",
      "Processing Record 201 | Sinjar\n",
      "Processing Record 202 | Santa rosa\n",
      "Processing Record 203 | Loubomo\n",
      "Processing Record 204 | Petropavlovsk-kamchatskiy\n",
      "Processing Record 205 | Palu\n",
      "Processing Record 206 | Guilin\n",
      "Processing Record 207 | Dagana\n",
      "Processing Record 208 | Mount gambier\n",
      "Processing Record 209 | Kundiawa\n",
      "Processing Record 210 | Yangambi\n",
      "Processing Record 211 | Hambantota\n",
      "Processing Record 212 | Katsuura\n",
      "Processing Record 213 | Carnarvon\n",
      "Processing Record 214 | Mingshui\n",
      "Processing Record 215 | Rolla\n",
      "Processing Record 216 | Hasaki\n",
      "Processing Record 217 | Port elizabeth\n",
      "Processing Record 218 | Lagoa\n",
      "Processing Record 219 | Jadu\n",
      "Processing Record 220 | Half moon bay\n",
      "Processing Record 221 | Katherine\n",
      "Processing Record 222 | Ormara\n",
      "Processing Record 223 | Carberry\n",
      "Processing Record 224 | Chicama\n",
      "Processing Record 225 | Cartagena\n"
     ]
    },
    {
     "name": "stdout",
     "output_type": "stream",
     "text": [
      "Processing Record 226 | Kihei\n",
      "Processing Record 227 | Bengkulu\n",
      "Processing Record 228 | Kavaratti\n",
      "Processing Record 229 | Thompson\n",
      "Processing Record 230 | Juneau\n",
      "Processing Record 231 | Victoria\n",
      "Processing Record 232 | Navalmoral de la mata\n",
      "Processing Record 233 | Bathsheba\n",
      "**San ignacio de sabaneta not found. Skipping...**\n",
      "**Scottsburgh not found. Skipping...**\n",
      "Processing Record 234 | Saint-philippe\n",
      "Processing Record 235 | Manavalakurichi\n",
      "Processing Record 236 | Labuhan\n",
      "Processing Record 237 | Hegang\n",
      "Processing Record 238 | Tacuati\n",
      "Processing Record 239 | Saskylakh\n",
      "Processing Record 240 | Caldas novas\n",
      "Processing Record 241 | Lasa\n",
      "Processing Record 242 | Vao\n",
      "Processing Record 243 | Salalah\n",
      "Processing Record 244 | Borisoglebskiy\n",
      "Processing Record 245 | Jambi\n",
      "Processing Record 246 | Namibe\n",
      "**Mys shmidta not found. Skipping...**\n",
      "Processing Record 247 | Udala\n",
      "**Burica not found. Skipping...**\n",
      "Processing Record 248 | Jaciara\n",
      "Processing Record 249 | Valer\n",
      "Processing Record 250 | Sola\n",
      "Processing Record 251 | Saint-joseph\n",
      "Processing Record 252 | Nokaneng\n",
      "Processing Record 253 | Alofi\n",
      "Processing Record 254 | Fortuna\n",
      "Processing Record 255 | Carutapera\n",
      "Processing Record 256 | Ewa beach\n",
      "Processing Record 257 | Abu kamal\n",
      "Processing Record 258 | Lompoc\n",
      "Processing Record 259 | Galabovo\n",
      "Processing Record 260 | Bemidji\n",
      "Processing Record 261 | Westport\n",
      "Processing Record 262 | Omboue\n",
      "Processing Record 263 | Vostok\n",
      "Processing Record 264 | Puerto colombia\n",
      "Processing Record 265 | Tautira\n",
      "Processing Record 266 | Sept-iles\n",
      "Processing Record 267 | Umm kaddadah\n",
      "Processing Record 268 | Beyneu\n",
      "Processing Record 269 | Shache\n",
      "Processing Record 270 | Jacareacanga\n",
      "Processing Record 271 | Hami\n",
      "Processing Record 272 | Gandajika\n",
      "Processing Record 273 | Mecca\n",
      "Processing Record 274 | Somerset\n",
      "Processing Record 275 | Storebo\n",
      "Processing Record 276 | Meulaboh\n",
      "Processing Record 277 | Fort nelson\n",
      "Processing Record 278 | Cockburn town\n",
      "**Culipapa not found. Skipping...**\n",
      "Processing Record 279 | Morwell\n",
      "Processing Record 280 | Chokwe\n",
      "Processing Record 281 | Ratnagiri\n",
      "Processing Record 282 | Gimli\n",
      "Processing Record 283 | Emerald\n",
      "Processing Record 284 | Yarada\n",
      "Processing Record 285 | Cabo san lucas\n",
      "Processing Record 286 | Chancay\n",
      "Processing Record 287 | Northam\n",
      "Processing Record 288 | Coihaique\n",
      "Processing Record 289 | Gisborne\n",
      "Processing Record 290 | Oistins\n",
      "Processing Record 291 | Mayo\n",
      "Processing Record 292 | Nyurba\n",
      "Processing Record 293 | Gizo\n",
      "Processing Record 294 | Bud\n",
      "Processing Record 295 | Yumen\n",
      "Processing Record 296 | Kiama\n",
      "Processing Record 297 | Doksy\n",
      "Processing Record 298 | Laguna\n",
      "Processing Record 299 | Sfantu gheorghe\n",
      "Processing Record 300 | Dzhebariki-khaya\n",
      "Processing Record 301 | Kupang\n",
      "Processing Record 302 | Atocha\n",
      "Processing Record 303 | Severo-kurilsk\n",
      "Processing Record 304 | Tshela\n",
      "Processing Record 305 | Tiarei\n",
      "Processing Record 306 | Fier\n",
      "Processing Record 307 | Eureka\n",
      "Processing Record 308 | Nemuro\n",
      "Processing Record 309 | Plettenberg bay\n",
      "Processing Record 310 | Townsend\n",
      "Processing Record 311 | Isangel\n",
      "**Eskasem not found. Skipping...**\n",
      "Processing Record 312 | Padang\n",
      "Processing Record 313 | Saint-leu\n",
      "**Tunghsiao not found. Skipping...**\n",
      "Processing Record 314 | Vysotsk\n",
      "Processing Record 315 | Havoysund\n",
      "Processing Record 316 | Cap malheureux\n",
      "Processing Record 317 | Lyubokhna\n",
      "Processing Record 318 | Quatre cocos\n",
      "Processing Record 319 | New norfolk\n",
      "Processing Record 320 | Monrovia\n",
      "**Mahaicony not found. Skipping...**\n",
      "Processing Record 321 | Muzhi\n",
      "Processing Record 322 | Constitucion\n",
      "**Sorvag not found. Skipping...**\n",
      "Processing Record 323 | Bonavista\n",
      "Processing Record 324 | Hualmay\n",
      "Processing Record 325 | Disna\n",
      "Processing Record 326 | Harbour breton\n",
      "Processing Record 327 | Dunedin\n",
      "Processing Record 328 | Champerico\n",
      "Processing Record 329 | Pedernales\n",
      "**Sumbawa not found. Skipping...**\n",
      "Processing Record 330 | Nampa\n",
      "Processing Record 331 | Campo maior\n",
      "Processing Record 332 | Mastic\n",
      "Processing Record 333 | Adrar\n",
      "Processing Record 334 | Baruun-urt\n",
      "Processing Record 335 | Alta floresta\n",
      "Processing Record 336 | Litovko\n",
      "**Solovetskiy not found. Skipping...**\n",
      "Processing Record 337 | Hofn\n",
      "Processing Record 338 | Vanimo\n",
      "Processing Record 339 | Xam nua\n",
      "Processing Record 340 | Cody\n",
      "Processing Record 341 | Usinsk\n",
      "Processing Record 342 | Shingu\n",
      "Processing Record 343 | Praya\n",
      "Processing Record 344 | Nanortalik\n",
      "Processing Record 345 | Seoul\n",
      "Processing Record 346 | Najran\n",
      "Processing Record 347 | Redlands\n",
      "Processing Record 348 | Pouebo\n",
      "Processing Record 349 | Pangkalanbuun\n",
      "**Wulanhaote not found. Skipping...**\n",
      "Processing Record 350 | Bandarbeyla\n",
      "Processing Record 351 | Santa marta\n",
      "Processing Record 352 | Queanbeyan\n",
      "Processing Record 353 | Grants\n",
      "Processing Record 354 | Kralendijk\n",
      "Processing Record 355 | Chabahar\n",
      "Processing Record 356 | Kalmunai\n",
      "Processing Record 357 | Balkhash\n",
      "Processing Record 358 | Ambon\n",
      "**Juifang not found. Skipping...**\n",
      "Processing Record 359 | Hobyo\n",
      "Processing Record 360 | San cristobal\n",
      "Processing Record 361 | Bondoukou\n",
      "Processing Record 362 | Kaeo\n",
      "Processing Record 363 | Codrington\n",
      "**Cheuskiny not found. Skipping...**\n",
      "Processing Record 364 | Batemans bay\n",
      "Processing Record 365 | Saint-medard-en-jalles\n",
      "Processing Record 366 | Isla vista\n",
      "Processing Record 367 | Kampot\n",
      "Processing Record 368 | Sao jose da coroa grande\n",
      "Processing Record 369 | Pak phanang\n",
      "Processing Record 370 | Aykhal\n",
      "**Mrirt not found. Skipping...**\n",
      "Processing Record 371 | Yulara\n",
      "Processing Record 372 | Multai\n",
      "Processing Record 373 | Port macquarie\n",
      "Processing Record 374 | Horki\n",
      "**Kazalinsk not found. Skipping...**\n",
      "Processing Record 375 | Port lincoln\n",
      "Processing Record 376 | Bouar\n",
      "Processing Record 377 | Astana\n",
      "Processing Record 378 | Tilichiki\n",
      "Processing Record 379 | Diamantino\n",
      "Processing Record 380 | Luocheng\n",
      "Processing Record 381 | Chernyshevsk\n",
      "Processing Record 382 | Temiscaming\n",
      "Processing Record 383 | Tambacounda\n",
      "Processing Record 384 | Borup\n",
      "Processing Record 385 | Ahuimanu\n",
      "Processing Record 386 | Rio grande\n",
      "Processing Record 387 | Manokwari\n",
      "Processing Record 388 | Mahibadhoo\n",
      "Processing Record 389 | Anadyr\n",
      "Processing Record 390 | Roma\n",
      "Processing Record 391 | Gualeguay\n",
      "Processing Record 392 | Mudgee\n",
      "Processing Record 393 | Ibra\n",
      "Processing Record 394 | Kota belud\n",
      "Processing Record 395 | Chara\n",
      "Processing Record 396 | Aklera\n",
      "Processing Record 397 | Tekkali\n",
      "Processing Record 398 | Taoudenni\n",
      "Processing Record 399 | Sarangani\n",
      "Processing Record 400 | Vestmannaeyjar\n",
      "Processing Record 401 | Cururupu\n",
      "Processing Record 402 | Kuressaare\n",
      "Processing Record 403 | Suihua\n",
      "Processing Record 404 | Pochutla\n",
      "Processing Record 405 | Kashi\n",
      "Processing Record 406 | Trincomalee\n",
      "Processing Record 407 | Torbay\n",
      "Processing Record 408 | Veraval\n",
      "Processing Record 409 | Nouadhibou\n",
      "Processing Record 410 | Chitral\n",
      "Processing Record 411 | Krasnoselkup\n",
      "Processing Record 412 | Karratha\n",
      "Processing Record 413 | North battleford\n",
      "Processing Record 414 | Serpa\n",
      "Processing Record 415 | Arlit\n",
      "Processing Record 416 | Methoni\n",
      "Processing Record 417 | Heihe\n",
      "Processing Record 418 | Sao gabriel da cachoeira\n",
      "**Ambodifototra not found. Skipping...**\n",
      "Processing Record 419 | Male\n",
      "Processing Record 420 | Bolgatanga\n",
      "Processing Record 421 | Bodden town\n",
      "Processing Record 422 | Karpathos\n",
      "Processing Record 423 | Schladming\n",
      "Processing Record 424 | Porto velho\n",
      "**Satitoa not found. Skipping...**\n",
      "Processing Record 425 | Australind\n",
      "**Dzhusaly not found. Skipping...**\n",
      "**Urdzhar not found. Skipping...**\n",
      "**Karamay not found. Skipping...**\n",
      "Processing Record 426 | Baykit\n",
      "Processing Record 427 | Nara\n",
      "Processing Record 428 | Kahului\n",
      "Processing Record 429 | Rorvik\n",
      "**Saryshagan not found. Skipping...**\n",
      "Processing Record 430 | Buchanan\n",
      "Processing Record 431 | Comodoro rivadavia\n",
      "Processing Record 432 | Sanski most\n",
      "Processing Record 433 | Lumeje\n",
      "Processing Record 434 | Muros\n",
      "Processing Record 435 | Belmonte\n",
      "Processing Record 436 | Virginia beach\n",
      "Processing Record 437 | Soyo\n",
      "Processing Record 438 | Priargunsk\n",
      "Processing Record 439 | Verkh-chebula\n",
      "Processing Record 440 | Santa cruz cabralia\n",
      "Processing Record 441 | Poso\n",
      "Processing Record 442 | Chama\n",
      "Processing Record 443 | Naze\n",
      "Processing Record 444 | Chhuikhadan\n",
      "**Marcona not found. Skipping...**\n",
      "Processing Record 445 | Port said\n",
      "Processing Record 446 | Iskateley\n"
     ]
    },
    {
     "name": "stdout",
     "output_type": "stream",
     "text": [
      "Processing Record 447 | Oliveira do hospital\n",
      "Processing Record 448 | Banyo\n",
      "Processing Record 449 | Januaria\n",
      "**Bokspits not found. Skipping...**\n",
      "Processing Record 450 | Nelson bay\n",
      "Processing Record 451 | Soderhamn\n",
      "Processing Record 452 | Sekoma\n",
      "Processing Record 453 | Mahdasht\n",
      "**Keshan not found. Skipping...**\n",
      "Processing Record 454 | Marsabit\n",
      "Processing Record 455 | Shiyan\n",
      "**Rolim de moura not found. Skipping...**\n",
      "Processing Record 456 | Neyshabur\n",
      "Processing Record 457 | Puerto penasco\n",
      "Processing Record 458 | Chenzhou\n",
      "Processing Record 459 | Alto paraguai\n",
      "**Skagastrond not found. Skipping...**\n",
      "Processing Record 460 | Jian\n",
      "Processing Record 461 | Preobrazheniye\n",
      "Processing Record 462 | Oranjemund\n",
      "Processing Record 463 | San alberto\n",
      "Processing Record 464 | Nata\n",
      "Processing Record 465 | Galle\n",
      "Processing Record 466 | Auki\n",
      "**Vaitupu not found. Skipping...**\n",
      "Processing Record 467 | Vinh\n",
      "Processing Record 468 | Makaha\n",
      "Processing Record 469 | Nikolayevsk-na-amure\n",
      "Processing Record 470 | Moctezuma\n",
      "Processing Record 471 | Vila\n",
      "Processing Record 472 | Burns lake\n",
      "Processing Record 473 | Tawang\n",
      "Processing Record 474 | Derzhavinsk\n",
      "Processing Record 475 | Abu zabad\n",
      "Processing Record 476 | Delijan\n",
      "Processing Record 477 | Ishigaki\n",
      "Processing Record 478 | Marzuq\n",
      "Processing Record 479 | Torit\n",
      "Processing Record 480 | Lavrentiya\n",
      "Processing Record 481 | Meadow lake\n",
      "Processing Record 482 | Bubaque\n",
      "Processing Record 483 | Millville\n",
      "Processing Record 484 | Kingaroy\n",
      "Processing Record 485 | Nieuwpoort\n",
      "Processing Record 486 | Tezu\n",
      "Processing Record 487 | Noumea\n",
      "Processing Record 488 | Cacapava\n",
      "Processing Record 489 | Pala\n",
      "Processing Record 490 | Kainantu\n",
      "Processing Record 491 | Chiang rai\n",
      "Processing Record 492 | Mamlyutka\n",
      "Processing Record 493 | Port augusta\n",
      "Processing Record 494 | San rafael\n",
      "Processing Record 495 | Shyroke\n",
      "Processing Record 496 | Spornoye\n",
      "Processing Record 497 | Tokmak\n",
      "Processing Record 498 | Oktyabrskiy\n",
      "Processing Record 499 | Zhongshu\n",
      "Processing Record 500 | Rome\n",
      "Processing Record 501 | Makakilo city\n",
      "Processing Record 502 | Faya\n",
      "Processing Record 503 | Port hardy\n",
      "Processing Record 504 | Kant\n",
      "Processing Record 505 | Geraldton\n",
      "Processing Record 506 | Patea\n",
      "Processing Record 507 | Tupelo\n",
      "Processing Record 508 | Sinnar\n",
      "Processing Record 509 | Newport\n",
      "Processing Record 510 | Jimani\n",
      "Processing Record 511 | Parga\n",
      "Processing Record 512 | Dublin\n",
      "Processing Record 513 | Mugur-aksy\n",
      "Processing Record 514 | Nabire\n",
      "Processing Record 515 | Iraray\n",
      "Processing Record 516 | Camacha\n",
      "Processing Record 517 | Edea\n",
      "Processing Record 518 | Khani\n",
      "Processing Record 519 | Teluk nibung\n",
      "Processing Record 520 | Pontianak\n",
      "Processing Record 521 | Boralday\n",
      "Processing Record 522 | Kapitanivka\n",
      "Processing Record 523 | Great falls\n",
      "Processing Record 524 | Ulladulla\n",
      "Processing Record 525 | Ust-ishim\n",
      "Processing Record 526 | Maningrida\n",
      "**Bolshiye klyuchishchi not found. Skipping...**\n",
      "Processing Record 527 | Haldibari\n",
      "Processing Record 528 | Tromso\n",
      "Processing Record 529 | San quintin\n",
      "Processing Record 530 | Fort-shevchenko\n",
      "Processing Record 531 | Broome\n",
      "Processing Record 532 | Tremembe\n",
      "Processing Record 533 | Mahajanga\n",
      "Processing Record 534 | Durham\n",
      "Processing Record 535 | Lazaro cardenas\n",
      "Processing Record 536 | Dwarka\n",
      "Processing Record 537 | Bandar-e anzali\n",
      "Processing Record 538 | Srandakan\n",
      "Processing Record 539 | Sinnamary\n",
      "Processing Record 540 | Harper\n",
      "Processing Record 541 | Chaah\n",
      "Processing Record 542 | Bara\n",
      "Processing Record 543 | Arman\n",
      "Processing Record 544 | Pangnirtung\n",
      "Processing Record 545 | Antofagasta\n",
      "Processing Record 546 | Vila velha\n",
      "Processing Record 547 | Cedar city\n",
      "Processing Record 548 | Zhezkazgan\n",
      "Processing Record 549 | Santo antonio do leverger\n",
      "Processing Record 550 | San vicente\n",
      "Processing Record 551 | Longkou\n",
      "Processing Record 552 | Severomuysk\n",
      "Processing Record 553 | Huarmey\n",
      "Processing Record 554 | Corbu\n",
      "Processing Record 555 | Manaure\n",
      "Processing Record 556 | Barcelos\n",
      "Processing Record 557 | Tessalit\n",
      "Processing Record 558 | Abha\n",
      "Processing Record 559 | Turukhansk\n",
      "Processing Record 560 | Paso de los toros\n",
      "Processing Record 561 | Mandera\n",
      "Processing Record 562 | Chapais\n",
      "Processing Record 563 | Rocha\n",
      "Processing Record 564 | Sao miguel\n",
      "Processing Record 565 | Fare\n",
      "Processing Record 566 | Madison heights\n",
      "Processing Record 567 | Cairns\n",
      "Processing Record 568 | Marondera\n",
      "Processing Record 569 | Saint-georges\n",
      "Processing Record 570 | Sur\n",
      "Processing Record 571 | De haan\n",
      "Processing Record 572 | Luderitz\n",
      "Processing Record 573 | Vaitape\n",
      "Processing Record 574 | Olga\n",
      "Processing Record 575 | Byron bay\n",
      "Processing Record 576 | Rubbestadneset\n"
     ]
    }
   ],
   "source": [
    "# Set up lists to hold reponse info\n",
    "\n",
    "existing_city=[]\n",
    "city_errors=[]\n",
    "lat = []\n",
    "long = []\n",
    "max_temp = []\n",
    "humidity=[]\n",
    "cloudiness=[]\n",
    "wind_speed=[]\n",
    "country=[]\n",
    "date=[]\n",
    "record_counter=0\n",
    "\n",
    "\n",
    "print(\"Beginning Data Retrieval\")\n",
    "print(\"-\"*20)\n",
    "    \n",
    "for city in cities:\n",
    "    response=requests.get(query_url + city).json()\n",
    "\n",
    "    \n",
    "    try:\n",
    "        lat.append(response['coord']['lat'])\n",
    "        long.append(response['coord']['lon'])\n",
    "        max_temp.append(response['main']['temp_max'])\n",
    "        humidity.append(response['main']['humidity'])\n",
    "        cloudiness.append(response['clouds']['all'])\n",
    "        wind_speed.append(response['wind']['speed'])\n",
    "        country.append(response['sys']['country'])\n",
    "        date.append(response['dt'])\n",
    "        existing_city.append(city)\n",
    "        record_counter=record_counter+1\n",
    "        print(f\"Processing Record {record_counter} | {city}\")\n",
    "        \n",
    "    except KeyError:\n",
    "        city_errors.append(city)\n",
    "        print(f\"**{city} not found. Skipping...**\")\n",
    "        \n"
   ]
  },
  {
   "cell_type": "markdown",
   "metadata": {},
   "source": [
    "### Convert Raw Data to DataFrame\n",
    "* Export the city data into a .csv.\n",
    "* Display the DataFrame"
   ]
  },
  {
   "cell_type": "code",
   "execution_count": 67,
   "metadata": {},
   "outputs": [
    {
     "data": {
      "text/html": [
       "<div>\n",
       "<style scoped>\n",
       "    .dataframe tbody tr th:only-of-type {\n",
       "        vertical-align: middle;\n",
       "    }\n",
       "\n",
       "    .dataframe tbody tr th {\n",
       "        vertical-align: top;\n",
       "    }\n",
       "\n",
       "    .dataframe thead th {\n",
       "        text-align: right;\n",
       "    }\n",
       "</style>\n",
       "<table border=\"1\" class=\"dataframe\">\n",
       "  <thead>\n",
       "    <tr style=\"text-align: right;\">\n",
       "      <th></th>\n",
       "      <th>City</th>\n",
       "      <th>Lat</th>\n",
       "      <th>Long</th>\n",
       "      <th>Max Temp</th>\n",
       "      <th>Humidity</th>\n",
       "      <th>Cloudiness</th>\n",
       "      <th>Wind Speed</th>\n",
       "      <th>Country</th>\n",
       "      <th>Date</th>\n",
       "    </tr>\n",
       "  </thead>\n",
       "  <tbody>\n",
       "    <tr>\n",
       "      <th>0</th>\n",
       "      <td>Rikitea</td>\n",
       "      <td>-23.1203</td>\n",
       "      <td>-134.9692</td>\n",
       "      <td>70.63</td>\n",
       "      <td>71</td>\n",
       "      <td>4</td>\n",
       "      <td>9.89</td>\n",
       "      <td>PF</td>\n",
       "      <td>1627760159</td>\n",
       "    </tr>\n",
       "    <tr>\n",
       "      <th>1</th>\n",
       "      <td>Kapaa</td>\n",
       "      <td>22.0752</td>\n",
       "      <td>-159.3190</td>\n",
       "      <td>82.72</td>\n",
       "      <td>68</td>\n",
       "      <td>75</td>\n",
       "      <td>4.00</td>\n",
       "      <td>US</td>\n",
       "      <td>1627760159</td>\n",
       "    </tr>\n",
       "    <tr>\n",
       "      <th>2</th>\n",
       "      <td>Saldanha</td>\n",
       "      <td>-33.0117</td>\n",
       "      <td>17.9442</td>\n",
       "      <td>53.65</td>\n",
       "      <td>53</td>\n",
       "      <td>56</td>\n",
       "      <td>1.23</td>\n",
       "      <td>ZA</td>\n",
       "      <td>1627759980</td>\n",
       "    </tr>\n",
       "    <tr>\n",
       "      <th>3</th>\n",
       "      <td>Clyde river</td>\n",
       "      <td>70.4692</td>\n",
       "      <td>-68.5914</td>\n",
       "      <td>44.83</td>\n",
       "      <td>81</td>\n",
       "      <td>75</td>\n",
       "      <td>9.22</td>\n",
       "      <td>CA</td>\n",
       "      <td>1627760160</td>\n",
       "    </tr>\n",
       "    <tr>\n",
       "      <th>4</th>\n",
       "      <td>Solnechnyy</td>\n",
       "      <td>50.7214</td>\n",
       "      <td>136.6319</td>\n",
       "      <td>49.33</td>\n",
       "      <td>97</td>\n",
       "      <td>100</td>\n",
       "      <td>7.16</td>\n",
       "      <td>RU</td>\n",
       "      <td>1627760160</td>\n",
       "    </tr>\n",
       "  </tbody>\n",
       "</table>\n",
       "</div>"
      ],
      "text/plain": [
       "          City      Lat      Long  Max Temp  Humidity  Cloudiness  Wind Speed  \\\n",
       "0      Rikitea -23.1203 -134.9692     70.63        71           4        9.89   \n",
       "1        Kapaa  22.0752 -159.3190     82.72        68          75        4.00   \n",
       "2     Saldanha -33.0117   17.9442     53.65        53          56        1.23   \n",
       "3  Clyde river  70.4692  -68.5914     44.83        81          75        9.22   \n",
       "4   Solnechnyy  50.7214  136.6319     49.33        97         100        7.16   \n",
       "\n",
       "  Country        Date  \n",
       "0      PF  1627760159  \n",
       "1      US  1627760159  \n",
       "2      ZA  1627759980  \n",
       "3      CA  1627760160  \n",
       "4      RU  1627760160  "
      ]
     },
     "execution_count": 67,
     "metadata": {},
     "output_type": "execute_result"
    }
   ],
   "source": [
    "# create a data frame from cities, lat, and temp\n",
    "weather_dict = {\n",
    "    \"City\": existing_city,\n",
    "    \"Lat\": lat,\n",
    "    \"Long\": long,\n",
    "    \"Max Temp\": max_temp,\n",
    "    \"Humidity\": humidity,\n",
    "    \"Cloudiness\": cloudiness,\n",
    "    \"Wind Speed\": wind_speed,\n",
    "    \"Country\": country,\n",
    "    \"Date\": date\n",
    "}\n",
    "weather_df = pd.DataFrame(weather_dict)\n",
    "\n",
    "weather_df.to_csv(output_data_file, index=False, header=True)\n",
    "\n",
    "weather_df.head()"
   ]
  },
  {
   "cell_type": "code",
   "execution_count": 69,
   "metadata": {},
   "outputs": [
    {
     "data": {
      "text/html": [
       "<div>\n",
       "<style scoped>\n",
       "    .dataframe tbody tr th:only-of-type {\n",
       "        vertical-align: middle;\n",
       "    }\n",
       "\n",
       "    .dataframe tbody tr th {\n",
       "        vertical-align: top;\n",
       "    }\n",
       "\n",
       "    .dataframe thead th {\n",
       "        text-align: right;\n",
       "    }\n",
       "</style>\n",
       "<table border=\"1\" class=\"dataframe\">\n",
       "  <thead>\n",
       "    <tr style=\"text-align: right;\">\n",
       "      <th></th>\n",
       "      <th>Lat</th>\n",
       "      <th>Long</th>\n",
       "      <th>Max Temp</th>\n",
       "      <th>Humidity</th>\n",
       "      <th>Cloudiness</th>\n",
       "      <th>Wind Speed</th>\n",
       "      <th>Date</th>\n",
       "    </tr>\n",
       "  </thead>\n",
       "  <tbody>\n",
       "    <tr>\n",
       "      <th>count</th>\n",
       "      <td>576.000000</td>\n",
       "      <td>576.000000</td>\n",
       "      <td>576.000000</td>\n",
       "      <td>576.000000</td>\n",
       "      <td>576.000000</td>\n",
       "      <td>576.000000</td>\n",
       "      <td>5.760000e+02</td>\n",
       "    </tr>\n",
       "    <tr>\n",
       "      <th>mean</th>\n",
       "      <td>18.575139</td>\n",
       "      <td>17.922925</td>\n",
       "      <td>71.279010</td>\n",
       "      <td>69.161458</td>\n",
       "      <td>52.739583</td>\n",
       "      <td>8.304132</td>\n",
       "      <td>1.627760e+09</td>\n",
       "    </tr>\n",
       "    <tr>\n",
       "      <th>std</th>\n",
       "      <td>32.186256</td>\n",
       "      <td>92.057492</td>\n",
       "      <td>14.252959</td>\n",
       "      <td>22.079461</td>\n",
       "      <td>38.646423</td>\n",
       "      <td>5.961133</td>\n",
       "      <td>8.526493e+01</td>\n",
       "    </tr>\n",
       "    <tr>\n",
       "      <th>min</th>\n",
       "      <td>-54.800000</td>\n",
       "      <td>-175.200000</td>\n",
       "      <td>35.870000</td>\n",
       "      <td>10.000000</td>\n",
       "      <td>0.000000</td>\n",
       "      <td>0.000000</td>\n",
       "      <td>1.627760e+09</td>\n",
       "    </tr>\n",
       "    <tr>\n",
       "      <th>25%</th>\n",
       "      <td>-7.461150</td>\n",
       "      <td>-65.842700</td>\n",
       "      <td>60.910000</td>\n",
       "      <td>55.000000</td>\n",
       "      <td>13.750000</td>\n",
       "      <td>3.850000</td>\n",
       "      <td>1.627760e+09</td>\n",
       "    </tr>\n",
       "    <tr>\n",
       "      <th>50%</th>\n",
       "      <td>21.123300</td>\n",
       "      <td>23.627450</td>\n",
       "      <td>73.550000</td>\n",
       "      <td>74.000000</td>\n",
       "      <td>55.000000</td>\n",
       "      <td>6.860000</td>\n",
       "      <td>1.627760e+09</td>\n",
       "    </tr>\n",
       "    <tr>\n",
       "      <th>75%</th>\n",
       "      <td>44.967800</td>\n",
       "      <td>101.891400</td>\n",
       "      <td>80.925000</td>\n",
       "      <td>86.000000</td>\n",
       "      <td>92.000000</td>\n",
       "      <td>11.500000</td>\n",
       "      <td>1.627760e+09</td>\n",
       "    </tr>\n",
       "    <tr>\n",
       "      <th>max</th>\n",
       "      <td>78.218600</td>\n",
       "      <td>178.004200</td>\n",
       "      <td>106.500000</td>\n",
       "      <td>100.000000</td>\n",
       "      <td>100.000000</td>\n",
       "      <td>34.520000</td>\n",
       "      <td>1.627760e+09</td>\n",
       "    </tr>\n",
       "  </tbody>\n",
       "</table>\n",
       "</div>"
      ],
      "text/plain": [
       "              Lat        Long    Max Temp    Humidity  Cloudiness  Wind Speed  \\\n",
       "count  576.000000  576.000000  576.000000  576.000000  576.000000  576.000000   \n",
       "mean    18.575139   17.922925   71.279010   69.161458   52.739583    8.304132   \n",
       "std     32.186256   92.057492   14.252959   22.079461   38.646423    5.961133   \n",
       "min    -54.800000 -175.200000   35.870000   10.000000    0.000000    0.000000   \n",
       "25%     -7.461150  -65.842700   60.910000   55.000000   13.750000    3.850000   \n",
       "50%     21.123300   23.627450   73.550000   74.000000   55.000000    6.860000   \n",
       "75%     44.967800  101.891400   80.925000   86.000000   92.000000   11.500000   \n",
       "max     78.218600  178.004200  106.500000  100.000000  100.000000   34.520000   \n",
       "\n",
       "               Date  \n",
       "count  5.760000e+02  \n",
       "mean   1.627760e+09  \n",
       "std    8.526493e+01  \n",
       "min    1.627760e+09  \n",
       "25%    1.627760e+09  \n",
       "50%    1.627760e+09  \n",
       "75%    1.627760e+09  \n",
       "max    1.627760e+09  "
      ]
     },
     "execution_count": 69,
     "metadata": {},
     "output_type": "execute_result"
    }
   ],
   "source": [
    "weather_df.describe()"
   ]
  },
  {
   "cell_type": "markdown",
   "metadata": {},
   "source": [
    "## Inspect the data and remove the cities where the humidity > 100%.\n",
    "----\n",
    "Skip this step if there are no cities that have humidity > 100%. "
   ]
  },
  {
   "cell_type": "code",
   "execution_count": 70,
   "metadata": {},
   "outputs": [
    {
     "data": {
      "text/html": [
       "<div>\n",
       "<style scoped>\n",
       "    .dataframe tbody tr th:only-of-type {\n",
       "        vertical-align: middle;\n",
       "    }\n",
       "\n",
       "    .dataframe tbody tr th {\n",
       "        vertical-align: top;\n",
       "    }\n",
       "\n",
       "    .dataframe thead th {\n",
       "        text-align: right;\n",
       "    }\n",
       "</style>\n",
       "<table border=\"1\" class=\"dataframe\">\n",
       "  <thead>\n",
       "    <tr style=\"text-align: right;\">\n",
       "      <th></th>\n",
       "      <th>City</th>\n",
       "      <th>Lat</th>\n",
       "      <th>Long</th>\n",
       "      <th>Max Temp</th>\n",
       "      <th>Humidity</th>\n",
       "      <th>Cloudiness</th>\n",
       "      <th>Wind Speed</th>\n",
       "      <th>Country</th>\n",
       "      <th>Date</th>\n",
       "    </tr>\n",
       "  </thead>\n",
       "  <tbody>\n",
       "  </tbody>\n",
       "</table>\n",
       "</div>"
      ],
      "text/plain": [
       "Empty DataFrame\n",
       "Columns: [City, Lat, Long, Max Temp, Humidity, Cloudiness, Wind Speed, Country, Date]\n",
       "Index: []"
      ]
     },
     "execution_count": 70,
     "metadata": {},
     "output_type": "execute_result"
    }
   ],
   "source": [
    "weather_df[weather_df[\"Humidity\"].astype(float)>100]\n"
   ]
  },
  {
   "cell_type": "code",
   "execution_count": 56,
   "metadata": {},
   "outputs": [],
   "source": [
    "#  Get the indices of cities that have humidity over 100%.\n",
    "\n",
    "# no cities have humidity over 100. "
   ]
  },
  {
   "cell_type": "code",
   "execution_count": 71,
   "metadata": {},
   "outputs": [],
   "source": [
    "# Make a new DataFrame equal to the city data to drop all humidity outliers by index.\n",
    "# Passing \"inplace=False\" will make a copy of the city_data DataFrame, which we call \"clean_city_data\".\n"
   ]
  },
  {
   "cell_type": "markdown",
   "metadata": {},
   "source": [
    "## Plotting the Data\n",
    "* Use proper labeling of the plots using plot titles (including date of analysis) and axes labels.\n",
    "* Save the plotted figures as .pngs."
   ]
  },
  {
   "cell_type": "markdown",
   "metadata": {},
   "source": [
    "## Latitude vs. Temperature Plot"
   ]
  },
  {
   "cell_type": "code",
   "execution_count": 94,
   "metadata": {
    "scrolled": true
   },
   "outputs": [
    {
     "data": {
      "image/png": "[encoded data removed]",
      "text/plain": [
       "<Figure size 432x288 with 1 Axes>"
      ]
     },
     "metadata": {
      "needs_background": "light"
     },
     "output_type": "display_data"
    },
    {
     "name": "stdout",
     "output_type": "stream",
     "text": [
      "This plot is analyzing the current max temperatures at latitudes.\n",
      "Temperatures appear to be higher as they get closer to latitude 20.\n",
      "Temperatures decrease the further away they are from latitude 20 in either direction.\n"
     ]
    }
   ],
   "source": [
    "x_values = weather_df[\"Lat\"]\n",
    "y_values = weather_df[\"Max Temp\"]\n",
    "plt.scatter(x_values,y_values, edgecolor=\"black\")\n",
    "plt.title(\"City Latitude vs. Max Temperature (07/31/21)\")\n",
    "plt.xlabel('Latitude')\n",
    "plt.ylabel('Max Temperature (F)')\n",
    "plt.grid(True)\n",
    "plt.show()\n",
    "\n",
    "print(\"This plot is analyzing the current max temperatures at latitudes.\")\n",
    "print(\"Temperatures appear to be higher as they get closer to latitude 20.\")\n",
    "print(\"Temperatures decrease the further away they are from latitude 20 in either direction.\")"
   ]
  },
  {
   "cell_type": "markdown",
   "metadata": {},
   "source": [
    "## Latitude vs. Humidity Plot"
   ]
  },
  {
   "cell_type": "code",
   "execution_count": 95,
   "metadata": {},
   "outputs": [
    {
     "data": {
      "image/png": "[encoded data removed]",
      "text/plain": [
       "<Figure size 432x288 with 1 Axes>"
      ]
     },
     "metadata": {
      "needs_background": "light"
     },
     "output_type": "display_data"
    },
    {
     "name": "stdout",
     "output_type": "stream",
     "text": [
      "This plot is analyzing the current % of humidity at latitudes.\n",
      "Humidity % exists across the board but appears to be more dense\n",
      "at latitude 0.\n"
     ]
    }
   ],
   "source": [
    "x_values = weather_df[\"Lat\"]\n",
    "y_values = weather_df[\"Humidity\"]\n",
    "plt.scatter(x_values,y_values, edgecolor=\"black\")\n",
    "plt.title(\"City Latitude vs. Humidity (07/31/21)\")\n",
    "plt.xlabel('Latitude')\n",
    "plt.ylabel('Humidity (%)')\n",
    "plt.grid(True)\n",
    "plt.show()\n",
    "\n",
    "print(\"This plot is analyzing the current % of humidity at latitudes.\")\n",
    "print(\"Humidity % exists across the board but appears to be more dense\")\n",
    "print(\"at latitude 0.\")"
   ]
  },
  {
   "cell_type": "markdown",
   "metadata": {},
   "source": [
    "## Latitude vs. Cloudiness Plot"
   ]
  },
  {
   "cell_type": "code",
   "execution_count": 96,
   "metadata": {},
   "outputs": [
    {
     "data": {
      "image/png": "[encoded data removed]",
      "text/plain": [
       "<Figure size 432x288 with 1 Axes>"
      ]
     },
     "metadata": {
      "needs_background": "light"
     },
     "output_type": "display_data"
    },
    {
     "name": "stdout",
     "output_type": "stream",
     "text": [
      "This plot is analyzing the current % of cloudiness at latitudes.\n",
      "Cloudiness % appears to be more dense between latitude 0 and 25.\n"
     ]
    }
   ],
   "source": [
    "x_values = weather_df[\"Lat\"]\n",
    "y_values = weather_df[\"Cloudiness\"]\n",
    "plt.scatter(x_values,y_values, edgecolor=\"black\")\n",
    "plt.title(\"City Latitude vs. Cloudiness (07/31/21)\")\n",
    "plt.xlabel('Latitude')\n",
    "plt.ylabel('Cloudiness (%)')\n",
    "plt.grid(True)\n",
    "plt.show()\n",
    "\n",
    "print(\"This plot is analyzing the current % of cloudiness at latitudes.\")\n",
    "print(\"Cloudiness % appears to be more dense between latitude 0 and 25.\")"
   ]
  },
  {
   "cell_type": "markdown",
   "metadata": {},
   "source": [
    "## Latitude vs. Wind Speed Plot"
   ]
  },
  {
   "cell_type": "code",
   "execution_count": 97,
   "metadata": {},
   "outputs": [
    {
     "data": {
      "image/png": "[encoded data removed]",
      "text/plain": [
       "<Figure size 432x288 with 1 Axes>"
      ]
     },
     "metadata": {
      "needs_background": "light"
     },
     "output_type": "display_data"
    },
    {
     "name": "stdout",
     "output_type": "stream",
     "text": [
      "This plot is analyzing the current wind speed at latitudes.\n",
      "Wind speed is mostly under 15mph but appears to increase more\n",
      "the closer it is to latitudes 0 and 20.\n"
     ]
    }
   ],
   "source": [
    "x_values = weather_df[\"Lat\"]\n",
    "y_values = weather_df[\"Wind Speed\"]\n",
    "plt.scatter(x_values,y_values, edgecolor=\"black\")\n",
    "plt.title(\"City Latitude vs. Wind Speed (07/31/21)\")\n",
    "plt.xlabel('Latitude')\n",
    "plt.ylabel('Wind Speed (mph)')\n",
    "plt.grid(True)\n",
    "plt.show()\n",
    "\n",
    "print(\"This plot is analyzing the current wind speed at latitudes.\")\n",
    "print(\"Wind speed is mostly under 15mph but appears to increase more\")\n",
    "print(\"the closer it is to latitudes 0 and 20.\")"
   ]
  },
  {
   "cell_type": "markdown",
   "metadata": {},
   "source": [
    "## Linear Regression"
   ]
  },
  {
   "cell_type": "code",
   "execution_count": 100,
   "metadata": {},
   "outputs": [
    {
     "data": {
      "text/html": [
       "<div>\n",
       "<style scoped>\n",
       "    .dataframe tbody tr th:only-of-type {\n",
       "        vertical-align: middle;\n",
       "    }\n",
       "\n",
       "    .dataframe tbody tr th {\n",
       "        vertical-align: top;\n",
       "    }\n",
       "\n",
       "    .dataframe thead th {\n",
       "        text-align: right;\n",
       "    }\n",
       "</style>\n",
       "<table border=\"1\" class=\"dataframe\">\n",
       "  <thead>\n",
       "    <tr style=\"text-align: right;\">\n",
       "      <th></th>\n",
       "      <th>City</th>\n",
       "      <th>Lat</th>\n",
       "      <th>Long</th>\n",
       "      <th>Max Temp</th>\n",
       "      <th>Humidity</th>\n",
       "      <th>Cloudiness</th>\n",
       "      <th>Wind Speed</th>\n",
       "      <th>Country</th>\n",
       "      <th>Date</th>\n",
       "    </tr>\n",
       "  </thead>\n",
       "  <tbody>\n",
       "    <tr>\n",
       "      <th>0</th>\n",
       "      <td>Rikitea</td>\n",
       "      <td>-23.1203</td>\n",
       "      <td>-134.9692</td>\n",
       "      <td>70.63</td>\n",
       "      <td>71</td>\n",
       "      <td>4</td>\n",
       "      <td>9.89</td>\n",
       "      <td>PF</td>\n",
       "      <td>1627760159</td>\n",
       "    </tr>\n",
       "    <tr>\n",
       "      <th>2</th>\n",
       "      <td>Saldanha</td>\n",
       "      <td>-33.0117</td>\n",
       "      <td>17.9442</td>\n",
       "      <td>53.65</td>\n",
       "      <td>53</td>\n",
       "      <td>56</td>\n",
       "      <td>1.23</td>\n",
       "      <td>ZA</td>\n",
       "      <td>1627759980</td>\n",
       "    </tr>\n",
       "    <tr>\n",
       "      <th>6</th>\n",
       "      <td>Bluff</td>\n",
       "      <td>-46.6000</td>\n",
       "      <td>168.3333</td>\n",
       "      <td>47.80</td>\n",
       "      <td>95</td>\n",
       "      <td>100</td>\n",
       "      <td>5.44</td>\n",
       "      <td>NZ</td>\n",
       "      <td>1627760161</td>\n",
       "    </tr>\n",
       "    <tr>\n",
       "      <th>11</th>\n",
       "      <td>Rio gallegos</td>\n",
       "      <td>-51.6226</td>\n",
       "      <td>-69.2181</td>\n",
       "      <td>42.85</td>\n",
       "      <td>45</td>\n",
       "      <td>75</td>\n",
       "      <td>19.57</td>\n",
       "      <td>AR</td>\n",
       "      <td>1627760162</td>\n",
       "    </tr>\n",
       "    <tr>\n",
       "      <th>13</th>\n",
       "      <td>Alyangula</td>\n",
       "      <td>-13.8483</td>\n",
       "      <td>136.4192</td>\n",
       "      <td>67.87</td>\n",
       "      <td>100</td>\n",
       "      <td>75</td>\n",
       "      <td>0.00</td>\n",
       "      <td>AU</td>\n",
       "      <td>1627760163</td>\n",
       "    </tr>\n",
       "    <tr>\n",
       "      <th>...</th>\n",
       "      <td>...</td>\n",
       "      <td>...</td>\n",
       "      <td>...</td>\n",
       "      <td>...</td>\n",
       "      <td>...</td>\n",
       "      <td>...</td>\n",
       "      <td>...</td>\n",
       "      <td>...</td>\n",
       "      <td>...</td>\n",
       "    </tr>\n",
       "    <tr>\n",
       "      <th>566</th>\n",
       "      <td>Cairns</td>\n",
       "      <td>-16.9167</td>\n",
       "      <td>145.7667</td>\n",
       "      <td>67.06</td>\n",
       "      <td>96</td>\n",
       "      <td>38</td>\n",
       "      <td>1.14</td>\n",
       "      <td>AU</td>\n",
       "      <td>1627760329</td>\n",
       "    </tr>\n",
       "    <tr>\n",
       "      <th>567</th>\n",
       "      <td>Marondera</td>\n",
       "      <td>-18.1853</td>\n",
       "      <td>31.5519</td>\n",
       "      <td>45.23</td>\n",
       "      <td>93</td>\n",
       "      <td>7</td>\n",
       "      <td>4.63</td>\n",
       "      <td>ZW</td>\n",
       "      <td>1627760330</td>\n",
       "    </tr>\n",
       "    <tr>\n",
       "      <th>571</th>\n",
       "      <td>Luderitz</td>\n",
       "      <td>-26.6481</td>\n",
       "      <td>15.1594</td>\n",
       "      <td>70.38</td>\n",
       "      <td>26</td>\n",
       "      <td>0</td>\n",
       "      <td>6.62</td>\n",
       "      <td>NA</td>\n",
       "      <td>1627760331</td>\n",
       "    </tr>\n",
       "    <tr>\n",
       "      <th>572</th>\n",
       "      <td>Vaitape</td>\n",
       "      <td>-16.5167</td>\n",
       "      <td>-151.7500</td>\n",
       "      <td>77.86</td>\n",
       "      <td>63</td>\n",
       "      <td>96</td>\n",
       "      <td>16.42</td>\n",
       "      <td>PF</td>\n",
       "      <td>1627760331</td>\n",
       "    </tr>\n",
       "    <tr>\n",
       "      <th>574</th>\n",
       "      <td>Byron bay</td>\n",
       "      <td>-28.6500</td>\n",
       "      <td>153.6167</td>\n",
       "      <td>60.75</td>\n",
       "      <td>86</td>\n",
       "      <td>5</td>\n",
       "      <td>11.45</td>\n",
       "      <td>AU</td>\n",
       "      <td>1627760332</td>\n",
       "    </tr>\n",
       "  </tbody>\n",
       "</table>\n",
       "<p>183 rows × 9 columns</p>\n",
       "</div>"
      ],
      "text/plain": [
       "             City      Lat      Long  Max Temp  Humidity  Cloudiness  \\\n",
       "0         Rikitea -23.1203 -134.9692     70.63        71           4   \n",
       "2        Saldanha -33.0117   17.9442     53.65        53          56   \n",
       "6           Bluff -46.6000  168.3333     47.80        95         100   \n",
       "11   Rio gallegos -51.6226  -69.2181     42.85        45          75   \n",
       "13      Alyangula -13.8483  136.4192     67.87       100          75   \n",
       "..            ...      ...       ...       ...       ...         ...   \n",
       "566        Cairns -16.9167  145.7667     67.06        96          38   \n",
       "567     Marondera -18.1853   31.5519     45.23        93           7   \n",
       "571      Luderitz -26.6481   15.1594     70.38        26           0   \n",
       "572       Vaitape -16.5167 -151.7500     77.86        63          96   \n",
       "574     Byron bay -28.6500  153.6167     60.75        86           5   \n",
       "\n",
       "     Wind Speed Country        Date  \n",
       "0          9.89      PF  1627760159  \n",
       "2          1.23      ZA  1627759980  \n",
       "6          5.44      NZ  1627760161  \n",
       "11        19.57      AR  1627760162  \n",
       "13         0.00      AU  1627760163  \n",
       "..          ...     ...         ...  \n",
       "566        1.14      AU  1627760329  \n",
       "567        4.63      ZW  1627760330  \n",
       "571        6.62      NA  1627760331  \n",
       "572       16.42      PF  1627760331  \n",
       "574       11.45      AU  1627760332  \n",
       "\n",
       "[183 rows x 9 columns]"
      ]
     },
     "execution_count": 100,
     "metadata": {},
     "output_type": "execute_result"
    }
   ],
   "source": [
    "northern_hem_df=weather_df[weather_df[\"Lat\"]>=0]\n",
    "southern_hem_df=weather_df[weather_df[\"Lat\"]<0]\n",
    "\n"
   ]
  },
  {
   "cell_type": "markdown",
   "metadata": {},
   "source": [
    "####  Northern Hemisphere - Max Temp vs. Latitude Linear Regression"
   ]
  },
  {
   "cell_type": "code",
   "execution_count": 105,
   "metadata": {},
   "outputs": [
    {
     "name": "stdout",
     "output_type": "stream",
     "text": [
      "The r-value is: -0.6277482442424149\n"
     ]
    },
    {
     "data": {
      "image/png": "[encoded data removed]",
      "text/plain": [
       "<Figure size 432x288 with 1 Axes>"
      ]
     },
     "metadata": {
      "needs_background": "light"
     },
     "output_type": "display_data"
    }
   ],
   "source": [
    "x_values = northern_hem_df[\"Lat\"]\n",
    "y_values = northern_hem_df[\"Max Temp\"]\n",
    "slope, intercept, r_value, p_value, stderr = linregress(x_values,y_values)\n",
    "regress_values=x_values*slope+intercept\n",
    "line_eq=\"y = \"+str(round(slope,2)) + \"x + \" + str(round(intercept,2))\n",
    "plt.scatter(x_values,y_values)\n",
    "plt.plot(x_values,regress_values,\"r-\")\n",
    "plt.annotate(line_eq,(10,40),fontsize=15,color=\"red\")\n",
    "plt.xlabel('Latitude')\n",
    "plt.ylabel('Max Temperature (F)')\n",
    "print(f\"The r-value is: {r_value}\")\n",
    "plt.show()\n",
    "\n",
    "\n"
   ]
  },
  {
   "cell_type": "markdown",
   "metadata": {},
   "source": [
    "####  Southern Hemisphere - Max Temp vs. Latitude Linear Regression"
   ]
  },
  {
   "cell_type": "code",
   "execution_count": 108,
   "metadata": {},
   "outputs": [
    {
     "name": "stdout",
     "output_type": "stream",
     "text": [
      "The r-value is: 0.7685071362164104\n"
     ]
    },
    {
     "data": {
      "image/png": "[encoded data removed]",
      "text/plain": [
       "<Figure size 432x288 with 1 Axes>"
      ]
     },
     "metadata": {
      "needs_background": "light"
     },
     "output_type": "display_data"
    }
   ],
   "source": [
    "x_values = southern_hem_df[\"Lat\"]\n",
    "y_values = southern_hem_df[\"Max Temp\"]\n",
    "slope, intercept, r_value, p_value, stderr = linregress(x_values,y_values)\n",
    "regress_values=x_values*slope+intercept\n",
    "line_eq=\"y = \"+str(round(slope,2)) + \"x + \" + str(round(intercept,2))\n",
    "plt.scatter(x_values,y_values)\n",
    "plt.plot(x_values,regress_values,\"r-\")\n",
    "plt.annotate(line_eq,(-50,80),fontsize=15,color=\"red\")\n",
    "plt.xlabel('Latitude')\n",
    "plt.ylabel('Max Temperature (F)')\n",
    "print(f\"The r-value is: {r_value}\")\n",
    "plt.show()"
   ]
  },
  {
   "cell_type": "markdown",
   "metadata": {},
   "source": [
    "####  Northern Hemisphere - Humidity (%) vs. Latitude Linear Regression"
   ]
  },
  {
   "cell_type": "code",
   "execution_count": 111,
   "metadata": {},
   "outputs": [
    {
     "name": "stdout",
     "output_type": "stream",
     "text": [
      "The r-value is: -0.03163347301857381\n"
     ]
    },
    {
     "data": {
      "image/png": "[encoded data removed]",
      "text/plain": [
       "<Figure size 432x288 with 1 Axes>"
      ]
     },
     "metadata": {
      "needs_background": "light"
     },
     "output_type": "display_data"
    }
   ],
   "source": [
    "x_values = northern_hem_df[\"Lat\"]\n",
    "y_values = northern_hem_df[\"Humidity\"]\n",
    "slope, intercept, r_value, p_value, stderr = linregress(x_values,y_values)\n",
    "regress_values=x_values*slope+intercept\n",
    "line_eq=\"y = \"+str(round(slope,2)) + \"x + \" + str(round(intercept,2))\n",
    "plt.scatter(x_values,y_values)\n",
    "plt.plot(x_values,regress_values,\"r-\")\n",
    "plt.annotate(line_eq,(40,10),fontsize=15,color=\"red\")\n",
    "plt.xlabel('Latitude')\n",
    "plt.ylabel('Humidity (%)')\n",
    "print(f\"The r-value is: {r_value}\")\n",
    "plt.show()\n"
   ]
  },
  {
   "cell_type": "markdown",
   "metadata": {},
   "source": [
    "####  Southern Hemisphere - Humidity (%) vs. Latitude Linear Regression"
   ]
  },
  {
   "cell_type": "code",
   "execution_count": 116,
   "metadata": {},
   "outputs": [
    {
     "name": "stdout",
     "output_type": "stream",
     "text": [
      "The r-value is: 0.053946754059476215\n"
     ]
    },
    {
     "data": {
      "image/png": "[encoded data removed]",
      "text/plain": [
       "<Figure size 432x288 with 1 Axes>"
      ]
     },
     "metadata": {
      "needs_background": "light"
     },
     "output_type": "display_data"
    }
   ],
   "source": [
    "x_values = southern_hem_df[\"Lat\"]\n",
    "y_values = southern_hem_df[\"Humidity\"]\n",
    "slope, intercept, r_value, p_value, stderr = linregress(x_values,y_values)\n",
    "regress_values=x_values*slope+intercept\n",
    "line_eq=\"y = \"+str(round(slope,2)) + \"x + \" + str(round(intercept,2))\n",
    "plt.scatter(x_values,y_values)\n",
    "plt.plot(x_values,regress_values,\"r-\")\n",
    "plt.annotate(line_eq,(-55,15),fontsize=15,color=\"red\")\n",
    "plt.xlabel('Latitude')\n",
    "plt.ylabel('Humidity (%)')\n",
    "print(f\"The r-value is: {r_value}\")\n",
    "plt.show()"
   ]
  },
  {
   "cell_type": "markdown",
   "metadata": {},
   "source": [
    "####  Northern Hemisphere - Cloudiness (%) vs. Latitude Linear Regression"
   ]
  },
  {
   "cell_type": "code",
   "execution_count": 120,
   "metadata": {},
   "outputs": [
    {
     "name": "stdout",
     "output_type": "stream",
     "text": [
      "The r-value is: -0.0819455803207197\n"
     ]
    },
    {
     "data": {
      "image/png": "[encoded data removed]",
      "text/plain": [
       "<Figure size 432x288 with 1 Axes>"
      ]
     },
     "metadata": {
      "needs_background": "light"
     },
     "output_type": "display_data"
    }
   ],
   "source": [
    "x_values = northern_hem_df[\"Lat\"]\n",
    "y_values = northern_hem_df[\"Cloudiness\"]\n",
    "slope, intercept, r_value, p_value, stderr = linregress(x_values,y_values)\n",
    "regress_values=x_values*slope+intercept\n",
    "line_eq=\"y = \"+str(round(slope,2)) + \"x + \" + str(round(intercept,2))\n",
    "plt.scatter(x_values,y_values)\n",
    "plt.plot(x_values,regress_values,\"r-\")\n",
    "plt.annotate(line_eq,(40,30),fontsize=15,color=\"red\")\n",
    "plt.xlabel('Latitude')\n",
    "plt.ylabel('Cloudiness (%)')\n",
    "print(f\"The r-value is: {r_value}\")\n",
    "plt.show()"
   ]
  },
  {
   "cell_type": "markdown",
   "metadata": {},
   "source": [
    "####  Southern Hemisphere - Cloudiness (%) vs. Latitude Linear Regression"
   ]
  },
  {
   "cell_type": "code",
   "execution_count": 123,
   "metadata": {},
   "outputs": [
    {
     "name": "stdout",
     "output_type": "stream",
     "text": [
      "The r-value is: 0.042639521214725896\n"
     ]
    },
    {
     "data": {
      "image/png": "[encoded data removed]",
      "text/plain": [
       "<Figure size 432x288 with 1 Axes>"
      ]
     },
     "metadata": {
      "needs_background": "light"
     },
     "output_type": "display_data"
    }
   ],
   "source": [
    "x_values = southern_hem_df[\"Lat\"]\n",
    "y_values = southern_hem_df[\"Cloudiness\"]\n",
    "slope, intercept, r_value, p_value, stderr = linregress(x_values,y_values)\n",
    "regress_values=x_values*slope+intercept\n",
    "line_eq=\"y = \"+str(round(slope,2)) + \"x + \" + str(round(intercept,2))\n",
    "plt.scatter(x_values,y_values)\n",
    "plt.plot(x_values,regress_values,\"r-\")\n",
    "plt.annotate(line_eq,(-55,25),fontsize=15,color=\"red\")\n",
    "plt.xlabel('Latitude')\n",
    "plt.ylabel('Cloudiness (%)')\n",
    "print(f\"The r-value is: {r_value}\")\n",
    "plt.show()"
   ]
  },
  {
   "cell_type": "markdown",
   "metadata": {},
   "source": [
    "####  Northern Hemisphere - Wind Speed (mph) vs. Latitude Linear Regression"
   ]
  },
  {
   "cell_type": "code",
   "execution_count": 124,
   "metadata": {},
   "outputs": [
    {
     "name": "stdout",
     "output_type": "stream",
     "text": [
      "The r-value is: -0.16321156705334475\n"
     ]
    },
    {
     "data": {
      "image/png": "[encoded data removed]",
      "text/plain": [
       "<Figure size 432x288 with 1 Axes>"
      ]
     },
     "metadata": {
      "needs_background": "light"
     },
     "output_type": "display_data"
    }
   ],
   "source": [
    "x_values = northern_hem_df[\"Lat\"]\n",
    "y_values = northern_hem_df[\"Wind Speed\"]\n",
    "slope, intercept, r_value, p_value, stderr = linregress(x_values,y_values)\n",
    "regress_values=x_values*slope+intercept\n",
    "line_eq=\"y = \"+str(round(slope,2)) + \"x + \" + str(round(intercept,2))\n",
    "plt.scatter(x_values,y_values)\n",
    "plt.plot(x_values,regress_values,\"r-\")\n",
    "plt.annotate(line_eq,(40,30),fontsize=15,color=\"red\")\n",
    "plt.xlabel('Latitude')\n",
    "plt.ylabel('Wind Speed (mph)')\n",
    "print(f\"The r-value is: {r_value}\")\n",
    "plt.show()"
   ]
  },
  {
   "cell_type": "markdown",
   "metadata": {},
   "source": [
    "####  Southern Hemisphere - Wind Speed (mph) vs. Latitude Linear Regression"
   ]
  },
  {
   "cell_type": "code",
   "execution_count": 126,
   "metadata": {},
   "outputs": [
    {
     "name": "stdout",
     "output_type": "stream",
     "text": [
      "The r-value is: -0.10739407523690883\n"
     ]
    },
    {
     "data": {
      "image/png": "[encoded data removed]",
      "text/plain": [
       "<Figure size 432x288 with 1 Axes>"
      ]
     },
     "metadata": {
      "needs_background": "light"
     },
     "output_type": "display_data"
    }
   ],
   "source": [
    "x_values = southern_hem_df[\"Lat\"]\n",
    "y_values = southern_hem_df[\"Wind Speed\"]\n",
    "slope, intercept, r_value, p_value, stderr = linregress(x_values,y_values)\n",
    "regress_values=x_values*slope+intercept\n",
    "line_eq=\"y = \"+str(round(slope,2)) + \"x + \" + str(round(intercept,2))\n",
    "plt.scatter(x_values,y_values)\n",
    "plt.plot(x_values,regress_values,\"r-\")\n",
    "plt.annotate(line_eq,(-45,20),fontsize=15,color=\"red\")\n",
    "plt.xlabel('Latitude')\n",
    "plt.ylabel('Wind Speed (mph)')\n",
    "print(f\"The r-value is: {r_value}\")\n",
    "plt.show()"
   ]
  },
  {
   "cell_type": "code",
   "execution_count": null,
   "metadata": {},
   "outputs": [],
   "source": []
  }
 ],
 "metadata": {
  "anaconda-cloud": {},
  "kernel_info": {
   "name": "python3"
  },
  "kernelspec": {
   "display_name": "Python [conda env:PythonData] *",
   "language": "python",
   "name": "conda-env-PythonData-py"
  },
  "language_info": {
   "codemirror_mode": {
    "name": "ipython",
    "version": 3
   },
   "file_extension": ".py",
   "mimetype": "text/x-python",
   "name": "python",
   "nbconvert_exporter": "python",
   "pygments_lexer": "ipython3",
   "version": "3.6.10"
  },
  "latex_envs": {
   "LaTeX_envs_menu_present": true,
   "autoclose": false,
   "autocomplete": true,
   "bibliofile": "biblio.bib",
   "cite_by": "apalike",
   "current_citInitial": 1,
   "eqLabelWithNumbers": true,
   "eqNumInitial": 1,
   "hotkeys": {
    "equation": "Ctrl-E",
    "itemize": "Ctrl-I"
   },
   "labels_anchors": false,
   "latex_user_defs": false,
   "report_style_numbering": false,
   "user_envs_cfg": false
  },
  "nteract": {
   "version": "0.12.3"
  }
 },
 "nbformat": 4,
 "nbformat_minor": 2
}
