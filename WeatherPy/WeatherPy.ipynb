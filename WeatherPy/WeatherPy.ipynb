{
 "cells": [
  {
   "cell_type": "markdown",
   "metadata": {},
   "source": [
    "# WeatherPy\n",
    "----\n",
    "\n",
    "#### Note\n",
    "* Instructions have been included for each segment. You do not have to follow them exactly, but they are included to help you think through the steps."
   ]
  },
  {
   "cell_type": "code",
   "execution_count": 1,
   "metadata": {
    "scrolled": true
   },
   "outputs": [],
   "source": [
    "# Dependencies and Setup\n",
    "import matplotlib.pyplot as plt\n",
    "import pandas as pd\n",
    "import numpy as np\n",
    "import requests\n",
    "import time\n",
    "from scipy.stats import linregress\n",
    "\n",
    "from datetime import date\n",
    "\n",
    "today = date.today()\n",
    "\n",
    "date = today.strftime(\"%m/%d/%y\")\n",
    "\n",
    "# Import API key\n",
    "from api_keys import weather_api_key\n",
    "\n",
    "# Incorporated citipy to determine city based on latitude and longitude\n",
    "from citipy import citipy\n",
    "\n",
    "# Output File (CSV)\n",
    "output_data_file = \"output/cities.csv\"\n",
    "\n",
    "# Range of latitudes and longitudes\n",
    "lat_range = (-90, 90)\n",
    "lng_range = (-180, 80)"
   ]
  },
  {
   "cell_type": "markdown",
   "metadata": {},
   "source": [
    "## Generate Cities List"
   ]
  },
  {
   "cell_type": "code",
   "execution_count": 2,
   "metadata": {},
   "outputs": [],
   "source": [
    "# List for holding lat_lngs and cities\n",
    "lat_lngs = []\n",
    "cities = []\n",
    "\n",
    "# Create a set of random lat and lng combinations\n",
    "lats = np.random.uniform(lat_range[0], lat_range[1], size=1500)\n",
    "lngs = np.random.uniform(lng_range[0], lng_range[1], size=1500)\n",
    "lat_lngs = zip(lats, lngs)"
   ]
  },
  {
   "cell_type": "code",
   "execution_count": 3,
   "metadata": {},
   "outputs": [
    {
     "data": {
      "text/plain": [
       "562"
      ]
     },
     "execution_count": 3,
     "metadata": {},
     "output_type": "execute_result"
    }
   ],
   "source": [
    "# Identify nearest city for each lat, lng combination\n",
    "for lat_lng in lat_lngs:\n",
    "    city = citipy.nearest_city(lat_lng[0], lat_lng[1]).city_name.capitalize()\n",
    "    \n",
    "    # If the city is unique, then add it to a our cities list\n",
    "    if city not in cities:\n",
    "        cities.append(city)\n",
    "\n",
    "        \n",
    "    \n",
    "# Print the city count to confirm sufficient count\n",
    "len(cities)"
   ]
  },
  {
   "cell_type": "markdown",
   "metadata": {},
   "source": [
    "### Perform API Calls\n",
    "* Perform a weather check on each city using a series of successive API calls.\n",
    "* Include a print log of each city as it'sbeing processed (with the city number and city name).\n"
   ]
  },
  {
   "cell_type": "code",
   "execution_count": 4,
   "metadata": {
    "scrolled": true
   },
   "outputs": [
    {
     "data": {
      "text/plain": [
       "'http://api.openweathermap.org/data/2.5/weather?appid=bf07decb51285129e7d8fc3985511c02&units=imperial&q='"
      ]
     },
     "execution_count": 4,
     "metadata": {},
     "output_type": "execute_result"
    }
   ],
   "source": [
    "# Set up URL\n",
    "\n",
    "url = \"http://api.openweathermap.org/data/2.5/weather?\"\n",
    "units=\"imperial\"\n",
    "\n",
    "# Build partial query URL\n",
    "query_url = f\"{url}appid={weather_api_key}&units={units}&q=\"\n",
    "\n",
    "query_url"
   ]
  },
  {
   "cell_type": "code",
   "execution_count": 5,
   "metadata": {},
   "outputs": [
    {
     "name": "stdout",
     "output_type": "stream",
     "text": [
      "Beginning Data Retrieval\n",
      "--------------------\n",
      "**Toliary not found. Skipping...**\n",
      "Processing Record 1 | Salamanca\n",
      "Processing Record 2 | Jamestown\n",
      "Processing Record 3 | Richards bay\n",
      "Processing Record 4 | Hualmay\n",
      "Processing Record 5 | Punta arenas\n",
      "Processing Record 6 | Ambilobe\n",
      "Processing Record 7 | Hamilton\n",
      "Processing Record 8 | Ponta do sol\n",
      "Processing Record 9 | Qaanaaq\n",
      "Processing Record 10 | Dossor\n",
      "Processing Record 11 | Port elizabeth\n",
      "**Taolanaro not found. Skipping...**\n",
      "Processing Record 12 | Cayenne\n",
      "Processing Record 13 | Porto walter\n",
      "Processing Record 14 | Rikitea\n",
      "Processing Record 15 | Belem de sao francisco\n",
      "Processing Record 16 | Port alfred\n",
      "Processing Record 17 | Thompson\n",
      "**Zachagansk not found. Skipping...**\n",
      "**Belushya guba not found. Skipping...**\n",
      "Processing Record 18 | Guerrero negro\n",
      "Processing Record 19 | Butembo\n",
      "**Attawapiskat not found. Skipping...**\n",
      "Processing Record 20 | Crasna\n",
      "Processing Record 21 | Cidreira\n",
      "Processing Record 22 | Kagoro\n",
      "Processing Record 23 | Upernavik\n",
      "Processing Record 24 | Odienne\n",
      "Processing Record 25 | Bredasdorp\n",
      "Processing Record 26 | Saldanha\n",
      "Processing Record 27 | Provideniya\n",
      "Processing Record 28 | Walvis bay\n",
      "Processing Record 29 | Kapaa\n",
      "Processing Record 30 | Dingle\n",
      "Processing Record 31 | Lompoc\n",
      "Processing Record 32 | Mataura\n",
      "Processing Record 33 | Lavrentiya\n",
      "Processing Record 34 | Castro\n",
      "Processing Record 35 | Coahuayana\n",
      "Processing Record 36 | Saint-philippe\n",
      "Processing Record 37 | Bethel\n",
      "Processing Record 38 | Hermanus\n",
      "Processing Record 39 | Grindavik\n",
      "Processing Record 40 | Royan\n",
      "Processing Record 41 | Malindi\n",
      "Processing Record 42 | Agustin codazzi\n",
      "Processing Record 43 | Newport\n",
      "Processing Record 44 | Puerto ayora\n",
      "Processing Record 45 | Asilah\n",
      "Processing Record 46 | Ciucsangeorgiu\n",
      "Processing Record 47 | Slave lake\n",
      "**Tuggurt not found. Skipping...**\n",
      "Processing Record 48 | Bom jesus\n",
      "**Barentsburg not found. Skipping...**\n",
      "**Tsihombe not found. Skipping...**\n",
      "Processing Record 49 | Corrente\n",
      "Processing Record 50 | Ushuaia\n",
      "Processing Record 51 | Pangai\n",
      "Processing Record 52 | Georgetown\n",
      "**Illoqqortoormiut not found. Skipping...**\n",
      "Processing Record 53 | Vaitape\n",
      "Processing Record 54 | Kemin\n",
      "Processing Record 55 | Balykshi\n",
      "Processing Record 56 | Vaini\n",
      "Processing Record 57 | Faanui\n",
      "Processing Record 58 | Mar del plata\n",
      "Processing Record 59 | Sant feliu de guixols\n",
      "Processing Record 60 | Rocha\n",
      "Processing Record 61 | Cine\n",
      "Processing Record 62 | Tiznit\n",
      "Processing Record 63 | Kenai\n",
      "Processing Record 64 | Barrow\n",
      "Processing Record 65 | Vila franca do campo\n",
      "Processing Record 66 | Jimeta\n",
      "**Hendijan not found. Skipping...**\n",
      "Processing Record 67 | Saint george\n",
      "Processing Record 68 | Ribeira grande\n",
      "Processing Record 69 | Fairbanks\n",
      "Processing Record 70 | Tucuma\n",
      "Processing Record 71 | Fatehpur sikri\n",
      "Processing Record 72 | Mehamn\n",
      "Processing Record 73 | Tala\n",
      "Processing Record 74 | Busselton\n",
      "Processing Record 75 | Yellowknife\n",
      "Processing Record 76 | Namibe\n",
      "Processing Record 77 | Kodiak\n",
      "Processing Record 78 | Kruisfontein\n",
      "Processing Record 79 | Salalah\n",
      "Processing Record 80 | Alvaraes\n",
      "Processing Record 81 | Lubango\n",
      "Processing Record 82 | Holalkere\n",
      "Processing Record 83 | Atuona\n",
      "Processing Record 84 | Bonthe\n",
      "Processing Record 85 | Mapastepec\n",
      "Processing Record 86 | Dikson\n",
      "Processing Record 87 | Mulege\n",
      "Processing Record 88 | Petatlan\n",
      "Processing Record 89 | Hilo\n",
      "Processing Record 90 | Maroantsetra\n",
      "Processing Record 91 | Minas\n",
      "Processing Record 92 | Gay\n",
      "Processing Record 93 | Cap-aux-meules\n",
      "Processing Record 94 | Dire dawa\n",
      "**Formoso do araguaia not found. Skipping...**\n",
      "Processing Record 95 | Dillon\n",
      "Processing Record 96 | Trapani\n",
      "Processing Record 97 | Sisimiut\n",
      "Processing Record 98 | Ntungamo\n",
      "**Tasbuget not found. Skipping...**\n",
      "Processing Record 99 | Cape town\n",
      "Processing Record 100 | Lagoa\n",
      "Processing Record 101 | Mahebourg\n",
      "Processing Record 102 | Longyearbyen\n",
      "Processing Record 103 | Montecristo\n",
      "**Amderma not found. Skipping...**\n",
      "Processing Record 104 | Nanakuli\n",
      "Processing Record 105 | Sao joao da barra\n",
      "Processing Record 106 | La rioja\n",
      "Processing Record 107 | Tripoli\n",
      "Processing Record 108 | Chuy\n",
      "Processing Record 109 | Bambous virieux\n",
      "Processing Record 110 | Sinnamary\n",
      "Processing Record 111 | Saint-pierre\n",
      "Processing Record 112 | Pacific grove\n",
      "Processing Record 113 | Moose factory\n",
      "Processing Record 114 | Wexford\n",
      "Processing Record 115 | Margate\n",
      "Processing Record 116 | Los llanos de aridane\n",
      "Processing Record 117 | Mitu\n",
      "Processing Record 118 | Huarmey\n",
      "Processing Record 119 | Port-gentil\n",
      "Processing Record 120 | Lebu\n",
      "Processing Record 121 | Husavik\n",
      "Processing Record 122 | Cap malheureux\n",
      "Processing Record 123 | Gazli\n",
      "Processing Record 124 | Narsaq\n",
      "Processing Record 125 | Coihaique\n",
      "Processing Record 126 | Ojinaga\n",
      "Processing Record 127 | Hithadhoo\n",
      "Processing Record 128 | Ukiah\n",
      "Processing Record 129 | Kudahuvadhoo\n",
      "Processing Record 130 | Tasiilaq\n",
      "Processing Record 131 | Novaya ladoga\n",
      "Processing Record 132 | Nioro\n",
      "Processing Record 133 | Praia da vitoria\n",
      "Processing Record 134 | Saint-francois\n",
      "Processing Record 135 | Opuwo\n",
      "Processing Record 136 | Waldoboro\n",
      "Processing Record 137 | Devrek\n",
      "Processing Record 138 | Sept-iles\n",
      "Processing Record 139 | Sitka\n",
      "Processing Record 140 | Nome\n",
      "Processing Record 141 | Pangnirtung\n",
      "**Vaitupu not found. Skipping...**\n",
      "Processing Record 142 | Conceicao do araguaia\n",
      "Processing Record 143 | San cristobal\n",
      "Processing Record 144 | Ayorou\n",
      "Processing Record 145 | Beaufort\n",
      "Processing Record 146 | East london\n",
      "Processing Record 147 | Sioux lookout\n",
      "Processing Record 148 | Aklavik\n",
      "Processing Record 149 | Inuvik\n",
      "Processing Record 150 | Tchibanga\n",
      "Processing Record 151 | Ornskoldsvik\n",
      "Processing Record 152 | Uppsala\n",
      "Processing Record 153 | Texarkana\n",
      "Processing Record 154 | Aksarka\n",
      "**Grand river south east not found. Skipping...**\n",
      "Processing Record 155 | Talcahuano\n",
      "Processing Record 156 | Luderitz\n",
      "Processing Record 157 | Kangaatsiaq\n",
      "Processing Record 158 | Godhra\n",
      "Processing Record 159 | Saint-honore\n",
      "Processing Record 160 | General pico\n",
      "Processing Record 161 | Tucurui\n",
      "Processing Record 162 | Norman wells\n",
      "Processing Record 163 | Tecoanapa\n",
      "Processing Record 164 | Mahibadhoo\n",
      "Processing Record 165 | Illapel\n",
      "Processing Record 166 | Felanitx\n",
      "Processing Record 167 | Inhambane\n",
      "Processing Record 168 | Constitucion\n",
      "Processing Record 169 | Torbay\n",
      "Processing Record 170 | Miquelon\n",
      "Processing Record 171 | Arraial do cabo\n",
      "Processing Record 172 | Victoria\n",
      "Processing Record 173 | Yangambi\n",
      "Processing Record 174 | Souillac\n",
      "**Tumannyy not found. Skipping...**\n",
      "Processing Record 175 | Coquimbo\n",
      "Processing Record 176 | Tacuarembo\n",
      "Processing Record 177 | Ilulissat\n",
      "Processing Record 178 | Grand gaube\n",
      "Processing Record 179 | Montrose\n",
      "Processing Record 180 | Ribas do rio pardo\n",
      "Processing Record 181 | Raudeberg\n",
      "Processing Record 182 | Taywarah\n",
      "Processing Record 183 | Whitley bay\n",
      "Processing Record 184 | Tautira\n",
      "Processing Record 185 | Iqaluit\n",
      "Processing Record 186 | Puerto del rosario\n",
      "Processing Record 187 | Ancud\n",
      "Processing Record 188 | Cheyenne\n",
      "Processing Record 189 | Bodden town\n",
      "Processing Record 190 | Vestmanna\n",
      "Processing Record 191 | Spring valley\n",
      "Processing Record 192 | Macae\n",
      "Processing Record 193 | San patricio\n",
      "Processing Record 194 | Tooele\n",
      "Processing Record 195 | Dumas\n",
      "Processing Record 196 | Codrington\n",
      "Processing Record 197 | Luanda\n",
      "Processing Record 198 | Haines junction\n",
      "Processing Record 199 | Araouane\n",
      "Processing Record 200 | Port alberni\n",
      "Processing Record 201 | Judaberg\n",
      "**Samusu not found. Skipping...**\n",
      "Processing Record 202 | Avarua\n",
      "Processing Record 203 | Dubrovnik\n",
      "Processing Record 204 | Yurla\n",
      "Processing Record 205 | Hashtrud\n",
      "Processing Record 206 | Port hawkesbury\n",
      "Processing Record 207 | Madimba\n",
      "Processing Record 208 | Kahului\n",
      "Processing Record 209 | Camana\n",
      "Processing Record 210 | Tarsus\n",
      "Processing Record 211 | Ihosy\n",
      "Processing Record 212 | Iranshahr\n",
      "Processing Record 213 | Paso de carrasco\n",
      "Processing Record 214 | Kuryk\n",
      "Processing Record 215 | Saint-joseph\n",
      "**Bolungarvik not found. Skipping...**\n",
      "Processing Record 216 | Itupeva\n",
      "Processing Record 217 | Tocopilla\n",
      "Processing Record 218 | Dakar\n",
      "Processing Record 219 | Alofi\n",
      "Processing Record 220 | Oeiras\n",
      "Processing Record 221 | Arlit\n",
      "Processing Record 222 | Bathsheba\n",
      "Processing Record 223 | Zaykovo\n",
      "Processing Record 224 | Palmer\n"
     ]
    },
    {
     "name": "stdout",
     "output_type": "stream",
     "text": [
      "Processing Record 225 | Comodoro rivadavia\n",
      "Processing Record 226 | San jose\n",
      "**Saint quentin not found. Skipping...**\n",
      "Processing Record 227 | Saint anthony\n",
      "Processing Record 228 | Songea\n",
      "Processing Record 229 | Garowe\n",
      "Processing Record 230 | Sorland\n",
      "Processing Record 231 | Lagos\n",
      "Processing Record 232 | Quatre cocos\n",
      "Processing Record 233 | Touros\n",
      "Processing Record 234 | Klaksvik\n",
      "Processing Record 235 | North bend\n",
      "Processing Record 236 | Lysyanka\n",
      "Processing Record 237 | Camargo\n",
      "Processing Record 238 | College\n",
      "Processing Record 239 | Kasempa\n",
      "Processing Record 240 | Tabou\n",
      "Processing Record 241 | Storforshei\n",
      "Processing Record 242 | Faya\n",
      "Processing Record 243 | Pisco\n",
      "**Kazalinsk not found. Skipping...**\n",
      "Processing Record 244 | Nadvoitsy\n",
      "Processing Record 245 | San rafael\n",
      "Processing Record 246 | Vestmannaeyjar\n",
      "Processing Record 247 | Lollar\n",
      "Processing Record 248 | Nanortalik\n",
      "Processing Record 249 | Zorritos\n",
      "Processing Record 250 | Narwar\n",
      "Processing Record 251 | Kavaratti\n",
      "Processing Record 252 | Fortuna\n",
      "Processing Record 253 | Paita\n",
      "Processing Record 254 | Boddam\n",
      "Processing Record 255 | Morro bay\n",
      "Processing Record 256 | Mirabad\n",
      "Processing Record 257 | Mormugao\n",
      "Processing Record 258 | Mineros\n",
      "Processing Record 259 | Gazanjyk\n",
      "Processing Record 260 | Tuktoyaktuk\n",
      "Processing Record 261 | Visnes\n",
      "Processing Record 262 | Cockburn town\n",
      "**Mys shmidta not found. Skipping...**\n",
      "Processing Record 263 | Ostrovnoy\n",
      "Processing Record 264 | Cascais\n",
      "Processing Record 265 | Iskateley\n",
      "Processing Record 266 | Trujillo\n",
      "**Sorvag not found. Skipping...**\n",
      "Processing Record 267 | Itarema\n",
      "Processing Record 268 | Adwa\n",
      "Processing Record 269 | Krechevitsy\n",
      "Processing Record 270 | Cabo san lucas\n",
      "Processing Record 271 | Corinto\n",
      "Processing Record 272 | Gimbi\n",
      "Processing Record 273 | Ask\n",
      "Processing Record 274 | Havelock\n",
      "Processing Record 275 | Jizan\n",
      "Processing Record 276 | Saint pete beach\n",
      "Processing Record 277 | Sakakah\n",
      "Processing Record 278 | Takoradi\n",
      "Processing Record 279 | Itacare\n",
      "Processing Record 280 | Panjab\n",
      "Processing Record 281 | Clyde river\n",
      "Processing Record 282 | Qasigiannguit\n",
      "Processing Record 283 | Formosa\n",
      "Processing Record 284 | Caravelas\n",
      "Processing Record 285 | Marzuq\n",
      "Processing Record 286 | Basi\n",
      "Processing Record 287 | Muisne\n",
      "Processing Record 288 | Hofn\n",
      "Processing Record 289 | Prince george\n",
      "Processing Record 290 | Bandarbeyla\n",
      "Processing Record 291 | Uberaba\n",
      "Processing Record 292 | Torit\n",
      "Processing Record 293 | Rio branco\n",
      "Processing Record 294 | Avera\n",
      "Processing Record 295 | Midyat\n",
      "**Viligili not found. Skipping...**\n",
      "Processing Record 296 | Rawson\n",
      "Processing Record 297 | Lamu\n",
      "Processing Record 298 | Surt\n",
      "Processing Record 299 | Vallenar\n",
      "Processing Record 300 | Thunder bay\n",
      "Processing Record 301 | Riyadh\n",
      "Processing Record 302 | Bray\n",
      "Processing Record 303 | Betioky\n",
      "Processing Record 304 | Pecos\n",
      "Processing Record 305 | Sechura\n",
      "Processing Record 306 | Aktau\n",
      "Processing Record 307 | Uarini\n",
      "Processing Record 308 | West plains\n",
      "Processing Record 309 | Pacasmayo\n",
      "Processing Record 310 | Mayo\n",
      "Processing Record 311 | Yeovil\n",
      "Processing Record 312 | Intipuca\n",
      "Processing Record 313 | Shebekino\n",
      "Processing Record 314 | Asfi\n",
      "Processing Record 315 | Fazilka\n",
      "Processing Record 316 | Piracanjuba\n",
      "Processing Record 317 | Urengoy\n",
      "Processing Record 318 | Moerai\n",
      "Processing Record 319 | Sterling\n",
      "Processing Record 320 | Idlib\n",
      "Processing Record 321 | Tessalit\n",
      "Processing Record 322 | Shumyachi\n",
      "Processing Record 323 | Marsh harbour\n",
      "Processing Record 324 | Dulce grande\n",
      "Processing Record 325 | Uravakonda\n",
      "Processing Record 326 | Arandas\n",
      "Processing Record 327 | Goundi\n",
      "Processing Record 328 | Marfino\n",
      "Processing Record 329 | Sao filipe\n",
      "Processing Record 330 | Lubawa\n",
      "Processing Record 331 | Lugazi\n",
      "Processing Record 332 | Freeport\n",
      "Processing Record 333 | Caska\n",
      "Processing Record 334 | Yola\n",
      "Processing Record 335 | Camocim\n",
      "**Falkoping not found. Skipping...**\n",
      "Processing Record 336 | Buraydah\n",
      "Processing Record 337 | Buriti\n",
      "Processing Record 338 | Gamba\n",
      "Processing Record 339 | Umm lajj\n",
      "Processing Record 340 | Ugoofaaru\n",
      "Processing Record 341 | Maceio\n",
      "Processing Record 342 | Abu samrah\n",
      "Processing Record 343 | Mithi\n",
      "Processing Record 344 | Iznoski\n",
      "Processing Record 345 | Sao joao dos patos\n",
      "Processing Record 346 | Liverpool\n",
      "Processing Record 347 | Bereda\n",
      "Processing Record 348 | Sao joao do paraiso\n",
      "Processing Record 349 | Manta\n",
      "**Sindand not found. Skipping...**\n",
      "Processing Record 350 | Cedar city\n",
      "Processing Record 351 | Gombe\n",
      "Processing Record 352 | Mvuma\n",
      "Processing Record 353 | Valparaiso\n",
      "Processing Record 354 | Vorkuta\n",
      "Processing Record 355 | Chebenki\n",
      "Processing Record 356 | Sao felix do xingu\n",
      "Processing Record 357 | Berlevag\n",
      "Processing Record 358 | Kirkwall\n",
      "Processing Record 359 | Erdemli\n",
      "Processing Record 360 | Nouadhibou\n",
      "Processing Record 361 | Kapan\n",
      "**Tlahualilo not found. Skipping...**\n",
      "Processing Record 362 | Noyabrsk\n",
      "Processing Record 363 | Ketchikan\n",
      "Processing Record 364 | Hammerfest\n",
      "Processing Record 365 | Doha\n",
      "Processing Record 366 | La massana\n",
      "Processing Record 367 | Mozarlandia\n",
      "Processing Record 368 | Oistins\n",
      "Processing Record 369 | Cuite\n",
      "Processing Record 370 | Laguna\n",
      "Processing Record 371 | Monforte de lemos\n",
      "Processing Record 372 | Vardo\n",
      "Processing Record 373 | Acapulco\n",
      "Processing Record 374 | General roca\n",
      "Processing Record 375 | Assiniboia\n",
      "Processing Record 376 | Bentiu\n",
      "Processing Record 377 | Kelso\n",
      "Processing Record 378 | Minot\n",
      "Processing Record 379 | Abasolo\n",
      "Processing Record 380 | Coihueco\n",
      "Processing Record 381 | Lincoln\n",
      "Processing Record 382 | Mende\n",
      "Processing Record 383 | Den helder\n",
      "Processing Record 384 | Port hardy\n",
      "Processing Record 385 | Olafsvik\n",
      "Processing Record 386 | Thinadhoo\n",
      "Processing Record 387 | Hatillo\n",
      "Processing Record 388 | Sirohi\n",
      "Processing Record 389 | Santa maria\n",
      "Processing Record 390 | Aviles\n",
      "Processing Record 391 | Ullapool\n",
      "Processing Record 392 | Lazaro cardenas\n",
      "Processing Record 393 | Turbo\n",
      "Processing Record 394 | Carutapera\n",
      "Processing Record 395 | Krasnoarmeysk\n",
      "Processing Record 396 | Terrace\n",
      "Processing Record 397 | Pochutla\n",
      "Processing Record 398 | Melfi\n",
      "Processing Record 399 | Fort dix\n",
      "Processing Record 400 | Whitehorse\n",
      "Processing Record 401 | Tuscaloosa\n",
      "Processing Record 402 | Bjornevatn\n",
      "Processing Record 403 | Aliwal north\n",
      "Processing Record 404 | Nikki\n",
      "Processing Record 405 | Homberg\n",
      "Processing Record 406 | Yar-sale\n",
      "Processing Record 407 | Tartagal\n",
      "**Naenwa not found. Skipping...**\n",
      "Processing Record 408 | Wolomin\n",
      "Processing Record 409 | Kosino\n",
      "Processing Record 410 | Mbekenyera\n",
      "Processing Record 411 | Egvekinot\n",
      "Processing Record 412 | Ormond beach\n",
      "Processing Record 413 | Hay river\n",
      "Processing Record 414 | Quartz hill\n",
      "Processing Record 415 | Nchelenge\n",
      "Processing Record 416 | Mazatlan\n",
      "Processing Record 417 | Chibombo\n",
      "Processing Record 418 | Iracoubo\n",
      "Processing Record 419 | Kralendijk\n",
      "Processing Record 420 | Giehun\n",
      "Processing Record 421 | Deer lake\n",
      "Processing Record 422 | Tagab\n",
      "Processing Record 423 | Coalinga\n",
      "Processing Record 424 | Goure\n",
      "**Marcona not found. Skipping...**\n",
      "Processing Record 425 | Nara\n",
      "Processing Record 426 | Gao\n",
      "Processing Record 427 | Tres picos\n",
      "Processing Record 428 | Mabaruma\n",
      "Processing Record 429 | Ruda nad moravou\n",
      "Processing Record 430 | Peterhead\n",
      "Processing Record 431 | Vilhena\n",
      "Processing Record 432 | Kamenka\n",
      "Processing Record 433 | Panaba\n",
      "Processing Record 434 | Normandin\n",
      "Processing Record 435 | Tete\n",
      "Processing Record 436 | Harper\n",
      "Processing Record 437 | Weatherford\n",
      "Processing Record 438 | Aswan\n",
      "Processing Record 439 | Parsons\n",
      "Processing Record 440 | Birao\n",
      "**Umzimvubu not found. Skipping...**\n",
      "Processing Record 441 | Puerto penasco\n",
      "Processing Record 442 | Road town\n",
      "Processing Record 443 | Hargeysa\n",
      "Processing Record 444 | Barinas\n",
      "Processing Record 445 | Boa vista\n",
      "**Mahadday weyne not found. Skipping...**\n",
      "Processing Record 446 | Montepuez\n",
      "Processing Record 447 | Adrar\n",
      "Processing Record 448 | Saint-augustin\n",
      "Processing Record 449 | Axim\n",
      "Processing Record 450 | Russkaya polyana\n",
      "Processing Record 451 | Praia\n",
      "Processing Record 452 | Sabha\n",
      "**Klokkarvik not found. Skipping...**\n",
      "Processing Record 453 | Chatham\n",
      "Processing Record 454 | Najran\n",
      "Processing Record 455 | Jinja\n",
      "Processing Record 456 | Taltal\n",
      "Processing Record 457 | Aksu\n",
      "Processing Record 458 | Oranjemund\n",
      "Processing Record 459 | Inongo\n"
     ]
    },
    {
     "name": "stdout",
     "output_type": "stream",
     "text": [
      "Processing Record 460 | Aradippou\n",
      "Processing Record 461 | Emporia\n",
      "Processing Record 462 | Durban\n",
      "Processing Record 463 | Jiwani\n",
      "Processing Record 464 | Porto torres\n",
      "Processing Record 465 | San quintin\n",
      "Processing Record 466 | Ati\n",
      "**Saleaula not found. Skipping...**\n",
      "Processing Record 467 | Yalta\n",
      "Processing Record 468 | Canto do buriti\n",
      "Processing Record 469 | Sheboygan\n",
      "Processing Record 470 | Olot\n",
      "Processing Record 471 | Zaria\n",
      "Processing Record 472 | Rundu\n",
      "Processing Record 473 | Benjamin aceval\n",
      "Processing Record 474 | Haysville\n",
      "Processing Record 475 | Brae\n",
      "Processing Record 476 | Rondonopolis\n",
      "Processing Record 477 | Sabalgarh\n",
      "Processing Record 478 | Kilindoni\n",
      "Processing Record 479 | Felipe carrillo puerto\n",
      "Processing Record 480 | The valley\n",
      "Processing Record 481 | Awbari\n",
      "Processing Record 482 | Malinovoye ozero\n",
      "Processing Record 483 | Tevaitoa\n",
      "Processing Record 484 | Beloha\n",
      "**Bolshegrivskoye not found. Skipping...**\n",
      "**Buqayq not found. Skipping...**\n",
      "Processing Record 485 | Cuamba\n",
      "Processing Record 486 | Cunday\n",
      "**Tsienyane not found. Skipping...**\n",
      "Processing Record 487 | Linhares\n",
      "Processing Record 488 | Ramygala\n",
      "Processing Record 489 | Muli\n",
      "Processing Record 490 | Colares\n",
      "Processing Record 491 | Ilmajoki\n",
      "Processing Record 492 | Mapiripan\n",
      "Processing Record 493 | Savannah bight\n",
      "Processing Record 494 | Peniche\n",
      "Processing Record 495 | Paamiut\n",
      "Processing Record 496 | Shyryayeve\n",
      "Processing Record 497 | Menongue\n",
      "Processing Record 498 | Mezen\n",
      "Processing Record 499 | West memphis\n",
      "**Solovetskiy not found. Skipping...**\n",
      "Processing Record 500 | North augusta\n",
      "Processing Record 501 | Kearney\n",
      "Processing Record 502 | Mwene-ditu\n",
      "Processing Record 503 | Sur\n",
      "Processing Record 504 | Itapetininga\n",
      "Processing Record 505 | Santa cruz\n",
      "Processing Record 506 | Obregon\n",
      "Processing Record 507 | Gwadar\n",
      "Processing Record 508 | Aden\n",
      "Processing Record 509 | Homer\n",
      "Processing Record 510 | Sao jose da coroa grande\n",
      "Processing Record 511 | Antofagasta\n",
      "Processing Record 512 | Santa margherita ligure\n",
      "Processing Record 513 | Yarim\n",
      "Processing Record 514 | Diu\n",
      "**Tawkar not found. Skipping...**\n",
      "**Himora not found. Skipping...**\n",
      "Processing Record 515 | Stephenville\n",
      "Processing Record 516 | Progreso\n",
      "Processing Record 517 | Akureyri\n",
      "Processing Record 518 | Salekhard\n",
      "Processing Record 519 | Umm kaddadah\n",
      "Processing Record 520 | Salvador\n",
      "Processing Record 521 | San andres\n",
      "Processing Record 522 | Goderich\n",
      "Processing Record 523 | Liwonde\n",
      "Processing Record 524 | Rock sound\n"
     ]
    }
   ],
   "source": [
    "# Set up lists to hold reponse info\n",
    "\n",
    "existing_city=[]\n",
    "city_errors=[]\n",
    "lat = []\n",
    "long = []\n",
    "max_temp = []\n",
    "humidity=[]\n",
    "cloudiness=[]\n",
    "wind_speed=[]\n",
    "country=[]\n",
    "date=[]\n",
    "record_counter=0\n",
    "\n",
    "\n",
    "print(\"Beginning Data Retrieval\")\n",
    "print(\"-\"*20)\n",
    "    \n",
    "for city in cities:\n",
    "    response=requests.get(query_url + city).json()\n",
    "\n",
    "    \n",
    "    try:\n",
    "        lat.append(response['coord']['lat'])\n",
    "        long.append(response['coord']['lon'])\n",
    "        max_temp.append(response['main']['temp_max'])\n",
    "        humidity.append(response['main']['humidity'])\n",
    "        cloudiness.append(response['clouds']['all'])\n",
    "        wind_speed.append(response['wind']['speed'])\n",
    "        country.append(response['sys']['country'])\n",
    "        date.append(response['dt'])\n",
    "        existing_city.append(city)\n",
    "        record_counter=record_counter+1\n",
    "        print(f\"Processing Record {record_counter} | {city}\")\n",
    "        \n",
    "    except KeyError:\n",
    "        city_errors.append(city)\n",
    "        print(f\"**{city} not found. Skipping...**\")\n",
    "        \n"
   ]
  },
  {
   "cell_type": "markdown",
   "metadata": {},
   "source": [
    "### Convert Raw Data to DataFrame\n",
    "* Export the city data into a .csv.\n",
    "* Display the DataFrame"
   ]
  },
  {
   "cell_type": "code",
   "execution_count": 6,
   "metadata": {},
   "outputs": [
    {
     "data": {
      "text/html": [
       "<div>\n",
       "<style scoped>\n",
       "    .dataframe tbody tr th:only-of-type {\n",
       "        vertical-align: middle;\n",
       "    }\n",
       "\n",
       "    .dataframe tbody tr th {\n",
       "        vertical-align: top;\n",
       "    }\n",
       "\n",
       "    .dataframe thead th {\n",
       "        text-align: right;\n",
       "    }\n",
       "</style>\n",
       "<table border=\"1\" class=\"dataframe\">\n",
       "  <thead>\n",
       "    <tr style=\"text-align: right;\">\n",
       "      <th></th>\n",
       "      <th>City</th>\n",
       "      <th>Lat</th>\n",
       "      <th>Long</th>\n",
       "      <th>Max Temp</th>\n",
       "      <th>Humidity</th>\n",
       "      <th>Cloudiness</th>\n",
       "      <th>Wind Speed</th>\n",
       "      <th>Country</th>\n",
       "      <th>Date</th>\n",
       "    </tr>\n",
       "  </thead>\n",
       "  <tbody>\n",
       "    <tr>\n",
       "      <th>0</th>\n",
       "      <td>Salamanca</td>\n",
       "      <td>40.8333</td>\n",
       "      <td>-6.0000</td>\n",
       "      <td>56.98</td>\n",
       "      <td>40</td>\n",
       "      <td>0</td>\n",
       "      <td>4.85</td>\n",
       "      <td>ES</td>\n",
       "      <td>1628468694</td>\n",
       "    </tr>\n",
       "    <tr>\n",
       "      <th>1</th>\n",
       "      <td>Jamestown</td>\n",
       "      <td>42.0970</td>\n",
       "      <td>-79.2353</td>\n",
       "      <td>78.39</td>\n",
       "      <td>82</td>\n",
       "      <td>1</td>\n",
       "      <td>3.00</td>\n",
       "      <td>US</td>\n",
       "      <td>1628468794</td>\n",
       "    </tr>\n",
       "    <tr>\n",
       "      <th>2</th>\n",
       "      <td>Richards bay</td>\n",
       "      <td>-28.7830</td>\n",
       "      <td>32.0377</td>\n",
       "      <td>64.09</td>\n",
       "      <td>57</td>\n",
       "      <td>1</td>\n",
       "      <td>10.16</td>\n",
       "      <td>ZA</td>\n",
       "      <td>1628468866</td>\n",
       "    </tr>\n",
       "    <tr>\n",
       "      <th>3</th>\n",
       "      <td>Hualmay</td>\n",
       "      <td>-11.0964</td>\n",
       "      <td>-77.6139</td>\n",
       "      <td>62.56</td>\n",
       "      <td>83</td>\n",
       "      <td>40</td>\n",
       "      <td>14.09</td>\n",
       "      <td>PE</td>\n",
       "      <td>1628468866</td>\n",
       "    </tr>\n",
       "    <tr>\n",
       "      <th>4</th>\n",
       "      <td>Punta arenas</td>\n",
       "      <td>-53.1500</td>\n",
       "      <td>-70.9167</td>\n",
       "      <td>41.11</td>\n",
       "      <td>75</td>\n",
       "      <td>90</td>\n",
       "      <td>12.66</td>\n",
       "      <td>CL</td>\n",
       "      <td>1628468866</td>\n",
       "    </tr>\n",
       "  </tbody>\n",
       "</table>\n",
       "</div>"
      ],
      "text/plain": [
       "           City      Lat     Long  Max Temp  Humidity  Cloudiness  Wind Speed  \\\n",
       "0     Salamanca  40.8333  -6.0000     56.98        40           0        4.85   \n",
       "1     Jamestown  42.0970 -79.2353     78.39        82           1        3.00   \n",
       "2  Richards bay -28.7830  32.0377     64.09        57           1       10.16   \n",
       "3       Hualmay -11.0964 -77.6139     62.56        83          40       14.09   \n",
       "4  Punta arenas -53.1500 -70.9167     41.11        75          90       12.66   \n",
       "\n",
       "  Country        Date  \n",
       "0      ES  1628468694  \n",
       "1      US  1628468794  \n",
       "2      ZA  1628468866  \n",
       "3      PE  1628468866  \n",
       "4      CL  1628468866  "
      ]
     },
     "execution_count": 6,
     "metadata": {},
     "output_type": "execute_result"
    }
   ],
   "source": [
    "# create a data frame from cities, lat, and temp\n",
    "weather_dict = {\n",
    "    \"City\": existing_city,\n",
    "    \"Lat\": lat,\n",
    "    \"Long\": long,\n",
    "    \"Max Temp\": max_temp,\n",
    "    \"Humidity\": humidity,\n",
    "    \"Cloudiness\": cloudiness,\n",
    "    \"Wind Speed\": wind_speed,\n",
    "    \"Country\": country,\n",
    "    \"Date\": date\n",
    "}\n",
    "weather_df = pd.DataFrame(weather_dict)\n",
    "\n",
    "#saving data frame to csv\n",
    "weather_df.to_csv(output_data_file, index=False, header=True)\n",
    "\n",
    "weather_df.head()"
   ]
  },
  {
   "cell_type": "code",
   "execution_count": 7,
   "metadata": {},
   "outputs": [
    {
     "data": {
      "text/html": [
       "<div>\n",
       "<style scoped>\n",
       "    .dataframe tbody tr th:only-of-type {\n",
       "        vertical-align: middle;\n",
       "    }\n",
       "\n",
       "    .dataframe tbody tr th {\n",
       "        vertical-align: top;\n",
       "    }\n",
       "\n",
       "    .dataframe thead th {\n",
       "        text-align: right;\n",
       "    }\n",
       "</style>\n",
       "<table border=\"1\" class=\"dataframe\">\n",
       "  <thead>\n",
       "    <tr style=\"text-align: right;\">\n",
       "      <th></th>\n",
       "      <th>Lat</th>\n",
       "      <th>Long</th>\n",
       "      <th>Max Temp</th>\n",
       "      <th>Humidity</th>\n",
       "      <th>Cloudiness</th>\n",
       "      <th>Wind Speed</th>\n",
       "      <th>Date</th>\n",
       "    </tr>\n",
       "  </thead>\n",
       "  <tbody>\n",
       "    <tr>\n",
       "      <th>count</th>\n",
       "      <td>524.000000</td>\n",
       "      <td>524.000000</td>\n",
       "      <td>524.000000</td>\n",
       "      <td>524.000000</td>\n",
       "      <td>524.000000</td>\n",
       "      <td>524.000000</td>\n",
       "      <td>5.240000e+02</td>\n",
       "    </tr>\n",
       "    <tr>\n",
       "      <th>mean</th>\n",
       "      <td>20.427043</td>\n",
       "      <td>-25.405845</td>\n",
       "      <td>69.740763</td>\n",
       "      <td>71.404580</td>\n",
       "      <td>46.635496</td>\n",
       "      <td>7.652882</td>\n",
       "      <td>1.628469e+09</td>\n",
       "    </tr>\n",
       "    <tr>\n",
       "      <th>std</th>\n",
       "      <td>31.313819</td>\n",
       "      <td>67.049222</td>\n",
       "      <td>13.842753</td>\n",
       "      <td>21.380475</td>\n",
       "      <td>38.507762</td>\n",
       "      <td>5.205751</td>\n",
       "      <td>7.543564e+01</td>\n",
       "    </tr>\n",
       "    <tr>\n",
       "      <th>min</th>\n",
       "      <td>-54.800000</td>\n",
       "      <td>-179.166700</td>\n",
       "      <td>33.750000</td>\n",
       "      <td>7.000000</td>\n",
       "      <td>0.000000</td>\n",
       "      <td>0.000000</td>\n",
       "      <td>1.628468e+09</td>\n",
       "    </tr>\n",
       "    <tr>\n",
       "      <th>25%</th>\n",
       "      <td>-5.288400</td>\n",
       "      <td>-76.204175</td>\n",
       "      <td>59.200000</td>\n",
       "      <td>60.750000</td>\n",
       "      <td>5.750000</td>\n",
       "      <td>3.690000</td>\n",
       "      <td>1.628469e+09</td>\n",
       "    </tr>\n",
       "    <tr>\n",
       "      <th>50%</th>\n",
       "      <td>22.945450</td>\n",
       "      <td>-17.391500</td>\n",
       "      <td>71.085000</td>\n",
       "      <td>77.000000</td>\n",
       "      <td>43.500000</td>\n",
       "      <td>6.290000</td>\n",
       "      <td>1.628469e+09</td>\n",
       "    </tr>\n",
       "    <tr>\n",
       "      <th>75%</th>\n",
       "      <td>45.169600</td>\n",
       "      <td>30.603600</td>\n",
       "      <td>79.970000</td>\n",
       "      <td>88.000000</td>\n",
       "      <td>90.000000</td>\n",
       "      <td>10.672500</td>\n",
       "      <td>1.628469e+09</td>\n",
       "    </tr>\n",
       "    <tr>\n",
       "      <th>max</th>\n",
       "      <td>78.218600</td>\n",
       "      <td>168.864300</td>\n",
       "      <td>106.430000</td>\n",
       "      <td>100.000000</td>\n",
       "      <td>100.000000</td>\n",
       "      <td>27.470000</td>\n",
       "      <td>1.628469e+09</td>\n",
       "    </tr>\n",
       "  </tbody>\n",
       "</table>\n",
       "</div>"
      ],
      "text/plain": [
       "              Lat        Long    Max Temp    Humidity  Cloudiness  Wind Speed  \\\n",
       "count  524.000000  524.000000  524.000000  524.000000  524.000000  524.000000   \n",
       "mean    20.427043  -25.405845   69.740763   71.404580   46.635496    7.652882   \n",
       "std     31.313819   67.049222   13.842753   21.380475   38.507762    5.205751   \n",
       "min    -54.800000 -179.166700   33.750000    7.000000    0.000000    0.000000   \n",
       "25%     -5.288400  -76.204175   59.200000   60.750000    5.750000    3.690000   \n",
       "50%     22.945450  -17.391500   71.085000   77.000000   43.500000    6.290000   \n",
       "75%     45.169600   30.603600   79.970000   88.000000   90.000000   10.672500   \n",
       "max     78.218600  168.864300  106.430000  100.000000  100.000000   27.470000   \n",
       "\n",
       "               Date  \n",
       "count  5.240000e+02  \n",
       "mean   1.628469e+09  \n",
       "std    7.543564e+01  \n",
       "min    1.628468e+09  \n",
       "25%    1.628469e+09  \n",
       "50%    1.628469e+09  \n",
       "75%    1.628469e+09  \n",
       "max    1.628469e+09  "
      ]
     },
     "execution_count": 7,
     "metadata": {},
     "output_type": "execute_result"
    }
   ],
   "source": [
    "weather_df.describe()"
   ]
  },
  {
   "cell_type": "markdown",
   "metadata": {},
   "source": [
    "## Inspect the data and remove the cities where the humidity > 100%.\n",
    "----\n",
    "Skip this step if there are no cities that have humidity > 100%. "
   ]
  },
  {
   "cell_type": "code",
   "execution_count": 8,
   "metadata": {},
   "outputs": [
    {
     "data": {
      "text/html": [
       "<div>\n",
       "<style scoped>\n",
       "    .dataframe tbody tr th:only-of-type {\n",
       "        vertical-align: middle;\n",
       "    }\n",
       "\n",
       "    .dataframe tbody tr th {\n",
       "        vertical-align: top;\n",
       "    }\n",
       "\n",
       "    .dataframe thead th {\n",
       "        text-align: right;\n",
       "    }\n",
       "</style>\n",
       "<table border=\"1\" class=\"dataframe\">\n",
       "  <thead>\n",
       "    <tr style=\"text-align: right;\">\n",
       "      <th></th>\n",
       "      <th>City</th>\n",
       "      <th>Lat</th>\n",
       "      <th>Long</th>\n",
       "      <th>Max Temp</th>\n",
       "      <th>Humidity</th>\n",
       "      <th>Cloudiness</th>\n",
       "      <th>Wind Speed</th>\n",
       "      <th>Country</th>\n",
       "      <th>Date</th>\n",
       "    </tr>\n",
       "  </thead>\n",
       "  <tbody>\n",
       "  </tbody>\n",
       "</table>\n",
       "</div>"
      ],
      "text/plain": [
       "Empty DataFrame\n",
       "Columns: [City, Lat, Long, Max Temp, Humidity, Cloudiness, Wind Speed, Country, Date]\n",
       "Index: []"
      ]
     },
     "execution_count": 8,
     "metadata": {},
     "output_type": "execute_result"
    }
   ],
   "source": [
    "weather_df[weather_df[\"Humidity\"].astype(float)>100]\n"
   ]
  },
  {
   "cell_type": "code",
   "execution_count": 9,
   "metadata": {},
   "outputs": [],
   "source": [
    "#  Get the indices of cities that have humidity over 100%.\n",
    "\n",
    "#****no cities with humidity over 100 found. *****"
   ]
  },
  {
   "cell_type": "code",
   "execution_count": 10,
   "metadata": {},
   "outputs": [],
   "source": [
    "# Make a new DataFrame equal to the city data to drop all humidity outliers by index.\n",
    "# Passing \"inplace=False\" will make a copy of the city_data DataFrame, which we call \"clean_city_data\".\n",
    "\n",
    "#n/a"
   ]
  },
  {
   "cell_type": "markdown",
   "metadata": {},
   "source": [
    "## Plotting the Data\n",
    "* Use proper labeling of the plots using plot titles (including date of analysis) and axes labels.\n",
    "* Save the plotted figures as .pngs."
   ]
  },
  {
   "cell_type": "markdown",
   "metadata": {},
   "source": [
    "## Latitude vs. Temperature Plot"
   ]
  },
  {
   "cell_type": "code",
   "execution_count": 11,
   "metadata": {
    "scrolled": true
   },
   "outputs": [
    {
     "data": {
      "image/png": "[encoded data removed]",
      "text/plain": [
       "<Figure size 432x288 with 1 Axes>"
      ]
     },
     "metadata": {
      "needs_background": "light"
     },
     "output_type": "display_data"
    },
    {
     "name": "stdout",
     "output_type": "stream",
     "text": [
      "Analysis:\n",
      "This plot is analyzing the current max temperatures at latitudes.\n",
      "Temperatures appear to be higher as they get closer to latitude 20.\n",
      "Temperatures decrease the further away they are from latitude 20 in either direction.\n"
     ]
    }
   ],
   "source": [
    "x_values = weather_df[\"Lat\"]\n",
    "y_values = weather_df[\"Max Temp\"]\n",
    "plt.scatter(x_values,y_values, edgecolor=\"black\")\n",
    "plt.title(f\"City Latitude vs. Max Temperature\")\n",
    "plt.xlabel('Latitude')\n",
    "plt.ylabel('Max Temperature (F)')\n",
    "plt.grid(True)\n",
    "\n",
    "# Save the figure\n",
    "plt.savefig(\"output/City Latitude vs Max Temp.png\")\n",
    "\n",
    "plt.show()\n",
    "\n",
    "print(\"Analysis:\")\n",
    "print(\"This plot is analyzing the current max temperatures at latitudes.\")\n",
    "print(\"Temperatures appear to be higher as they get closer to latitude 20.\")\n",
    "print(\"Temperatures decrease the further away they are from latitude 20 in either direction.\")"
   ]
  },
  {
   "cell_type": "markdown",
   "metadata": {},
   "source": [
    "## Latitude vs. Humidity Plot"
   ]
  },
  {
   "cell_type": "code",
   "execution_count": 12,
   "metadata": {},
   "outputs": [
    {
     "data": {
      "image/png": "[encoded data removed]",
      "text/plain": [
       "<Figure size 432x288 with 1 Axes>"
      ]
     },
     "metadata": {
      "needs_background": "light"
     },
     "output_type": "display_data"
    },
    {
     "name": "stdout",
     "output_type": "stream",
     "text": [
      "Analysis:\n",
      "This plot is analyzing the current % of humidity at latitudes.\n",
      "Humidity % exists across the board but appears to be more dense\n",
      "at latitude 0 and above.\n"
     ]
    }
   ],
   "source": [
    "x_values = weather_df[\"Lat\"]\n",
    "y_values = weather_df[\"Humidity\"]\n",
    "plt.scatter(x_values,y_values, edgecolor=\"black\")\n",
    "plt.title(f\"City Latitude vs. Humidity\")\n",
    "plt.xlabel('Latitude')\n",
    "plt.ylabel('Humidity (%)')\n",
    "plt.grid(True)\n",
    "\n",
    "# Save the figure\n",
    "plt.savefig(\"output/City Latitude vs Humidity.png\")\n",
    "\n",
    "plt.show()\n",
    "\n",
    "print(\"Analysis:\")\n",
    "print(\"This plot is analyzing the current % of humidity at latitudes.\")\n",
    "print(\"Humidity % exists across the board but appears to be more dense\")\n",
    "print(\"at latitude 0 and above.\")"
   ]
  },
  {
   "cell_type": "markdown",
   "metadata": {},
   "source": [
    "## Latitude vs. Cloudiness Plot"
   ]
  },
  {
   "cell_type": "code",
   "execution_count": 13,
   "metadata": {},
   "outputs": [
    {
     "data": {
      "image/png": "[encoded data removed]",
      "text/plain": [
       "<Figure size 432x288 with 1 Axes>"
      ]
     },
     "metadata": {
      "needs_background": "light"
     },
     "output_type": "display_data"
    },
    {
     "name": "stdout",
     "output_type": "stream",
     "text": [
      "Analysis:\n",
      "This plot is analyzing the current % of cloudiness at latitudes.\n",
      "Cloudiness % appears to be intense in the northern hemisphere.\n"
     ]
    }
   ],
   "source": [
    "x_values = weather_df[\"Lat\"]\n",
    "y_values = weather_df[\"Cloudiness\"]\n",
    "plt.scatter(x_values,y_values, edgecolor=\"black\")\n",
    "plt.title(f\"City Latitude vs. Cloudiness\")\n",
    "plt.xlabel('Latitude')\n",
    "plt.ylabel('Cloudiness (%)')\n",
    "plt.grid(True)\n",
    "\n",
    "# Save the figure\n",
    "plt.savefig(\"output/City Latitude vs Cloudiness.png\")\n",
    "\n",
    "\n",
    "plt.show()\n",
    "\n",
    "print(\"Analysis:\")\n",
    "print(\"This plot is analyzing the current % of cloudiness at latitudes.\")\n",
    "print(\"Cloudiness % appears to be intense in the northern hemisphere.\")"
   ]
  },
  {
   "cell_type": "markdown",
   "metadata": {},
   "source": [
    "## Latitude vs. Wind Speed Plot"
   ]
  },
  {
   "cell_type": "code",
   "execution_count": 14,
   "metadata": {},
   "outputs": [
    {
     "data": {
      "image/png": "[encoded data removed]",
      "text/plain": [
       "<Figure size 432x288 with 1 Axes>"
      ]
     },
     "metadata": {
      "needs_background": "light"
     },
     "output_type": "display_data"
    },
    {
     "name": "stdout",
     "output_type": "stream",
     "text": [
      "Analysis:\n",
      "This plot is analyzing the current wind speed at latitudes.\n",
      "Wind speed is mostly under 15mph but appears to increase more\n",
      "the closer it is to latitudes 0 and 20.\n"
     ]
    }
   ],
   "source": [
    "x_values = weather_df[\"Lat\"]\n",
    "y_values = weather_df[\"Wind Speed\"]\n",
    "plt.scatter(x_values,y_values, edgecolor=\"black\")\n",
    "plt.title(f\"City Latitude vs. Wind Speed\")\n",
    "plt.xlabel('Latitude')\n",
    "plt.ylabel('Wind Speed (mph)')\n",
    "plt.grid(True)\n",
    "\n",
    "# Save the figure\n",
    "plt.savefig(\"output/City Latitude vs Wind Speed.png\")\n",
    "\n",
    "\n",
    "plt.show()\n",
    "\n",
    "print(\"Analysis:\")\n",
    "print(\"This plot is analyzing the current wind speed at latitudes.\")\n",
    "print(\"Wind speed is mostly under 15mph but appears to increase more\")\n",
    "print(\"the closer it is to latitudes 0 and 20.\")"
   ]
  },
  {
   "cell_type": "markdown",
   "metadata": {},
   "source": [
    "## Linear Regression"
   ]
  },
  {
   "cell_type": "code",
   "execution_count": 15,
   "metadata": {},
   "outputs": [],
   "source": [
    "# Create reduced northern and southern hemisphere dataframes for linear regressions\n",
    "\n",
    "northern_hem_df=weather_df[weather_df[\"Lat\"]>=0]\n",
    "southern_hem_df=weather_df[weather_df[\"Lat\"]<0]\n"
   ]
  },
  {
   "cell_type": "markdown",
   "metadata": {},
   "source": [
    "####  Northern Hemisphere - Max Temp vs. Latitude Linear Regression"
   ]
  },
  {
   "cell_type": "code",
   "execution_count": 16,
   "metadata": {},
   "outputs": [
    {
     "name": "stdout",
     "output_type": "stream",
     "text": [
      "The r-value is: -0.626522882026584\n",
      "The p-value is: 5.89919819358434e-42\n"
     ]
    },
    {
     "data": {
      "image/png": "[encoded data removed]",
      "text/plain": [
       "<Figure size 432x288 with 1 Axes>"
      ]
     },
     "metadata": {
      "needs_background": "light"
     },
     "output_type": "display_data"
    },
    {
     "name": "stdout",
     "output_type": "stream",
     "text": [
      "Analysis:\n",
      "This plot is analyzing the current max temperature of cities\n",
      "located in the northern hemisphere.\n",
      "Many temps increase the closer they are to the equator.\n",
      "The high r-value tells us it is representative of most of the data.\n"
     ]
    }
   ],
   "source": [
    "x_values = northern_hem_df[\"Lat\"]\n",
    "y_values = northern_hem_df[\"Max Temp\"]\n",
    "slope, intercept, r_value, p_value, stderr = linregress(x_values,y_values)\n",
    "regress_values=x_values*slope+intercept\n",
    "line_eq=\"y = \"+str(round(slope,2)) + \"x + \" + str(round(intercept,2))\n",
    "plt.scatter(x_values,y_values)\n",
    "plt.plot(x_values,regress_values,\"r-\")\n",
    "plt.annotate(line_eq,(10,40),fontsize=15,color=\"red\")\n",
    "plt.title(f'Northern Hemisphere Max Temp vs. Latitude')\n",
    "plt.xlabel('Latitude')\n",
    "plt.ylabel('Max Temperature (F)')\n",
    "print(f\"The r-value is: {r_value}\")\n",
    "print(f\"The p-value is: {p_value}\")\n",
    "\n",
    "# Save the figure\n",
    "plt.savefig(\"output/Northern Hemisphere Temp vs Latitude.png\")\n",
    "\n",
    "\n",
    "plt.show()\n",
    "\n",
    "print('Analysis:')\n",
    "print(\"This plot is analyzing the current max temperature of cities\")\n",
    "print(\"located in the northern hemisphere.\")\n",
    "print(\"Many temps increase the closer they are to the equator.\")\n",
    "print(\"The high r-value tells us it is representative of most of the data.\")"
   ]
  },
  {
   "cell_type": "markdown",
   "metadata": {},
   "source": [
    "####  Southern Hemisphere - Max Temp vs. Latitude Linear Regression"
   ]
  },
  {
   "cell_type": "code",
   "execution_count": 17,
   "metadata": {},
   "outputs": [
    {
     "name": "stdout",
     "output_type": "stream",
     "text": [
      "The r-value is: 0.7521335828969232\n"
     ]
    },
    {
     "data": {
      "image/png": "[encoded data removed]",
      "text/plain": [
       "<Figure size 432x288 with 1 Axes>"
      ]
     },
     "metadata": {
      "needs_background": "light"
     },
     "output_type": "display_data"
    },
    {
     "name": "stdout",
     "output_type": "stream",
     "text": [
      "Analysis:\n",
      "This plot is analyzing the current max temperature of cities\n",
      "located in the southern hemisphere.\n",
      "Like in the northern hemisphere, many temps increase the closer they are to the equator.\n",
      "The high r-value tells us it is representative of most of the data.\n"
     ]
    }
   ],
   "source": [
    "x_values = southern_hem_df[\"Lat\"]\n",
    "y_values = southern_hem_df[\"Max Temp\"]\n",
    "slope, intercept, r_value, p_value, stderr = linregress(x_values,y_values)\n",
    "regress_values=x_values*slope+intercept\n",
    "line_eq=\"y = \"+str(round(slope,2)) + \"x + \" + str(round(intercept,2))\n",
    "plt.scatter(x_values,y_values)\n",
    "plt.plot(x_values,regress_values,\"r-\")\n",
    "plt.annotate(line_eq,(-50,80),fontsize=15,color=\"red\")\n",
    "plt.title(f'Southern Hemisphere Max Temp vs. Latitude')\n",
    "plt.xlabel('Latitude')\n",
    "plt.ylabel('Max Temperature (F)')\n",
    "print(f\"The r-value is: {r_value}\")\n",
    "\n",
    "# Save the figure\n",
    "plt.savefig(\"output/Southern Hemisphere Temp vs Latitude.png\")\n",
    "\n",
    "\n",
    "plt.show()\n",
    "\n",
    "print('Analysis:')\n",
    "print(\"This plot is analyzing the current max temperature of cities\")\n",
    "print(\"located in the southern hemisphere.\")\n",
    "print(\"Like in the northern hemisphere, many temps increase the closer they are to the equator.\")\n",
    "print(\"The high r-value tells us it is representative of most of the data.\")"
   ]
  },
  {
   "cell_type": "markdown",
   "metadata": {},
   "source": [
    "####  Northern Hemisphere - Humidity (%) vs. Latitude Linear Regression"
   ]
  },
  {
   "cell_type": "code",
   "execution_count": 18,
   "metadata": {},
   "outputs": [
    {
     "name": "stdout",
     "output_type": "stream",
     "text": [
      "The r-value is: 0.0017397475722050828\n"
     ]
    },
    {
     "data": {
      "image/png": "[encoded data removed]",
      "text/plain": [
       "<Figure size 432x288 with 1 Axes>"
      ]
     },
     "metadata": {
      "needs_background": "light"
     },
     "output_type": "display_data"
    },
    {
     "name": "stdout",
     "output_type": "stream",
     "text": [
      "Analysis:\n",
      "This plot is analyzing the current humidity of cities\n",
      "located in the northern hemisphere.\n",
      "Humidity seems mid to high for most cities in the northern hemisphere.\n",
      "There is a slight positive correlation closer to the equator.\n",
      "The low r-value tells us it is not representative of most of the data.\n"
     ]
    }
   ],
   "source": [
    "x_values = northern_hem_df[\"Lat\"]\n",
    "y_values = northern_hem_df[\"Humidity\"]\n",
    "slope, intercept, r_value, p_value, stderr = linregress(x_values,y_values)\n",
    "regress_values=x_values*slope+intercept\n",
    "line_eq=\"y = \"+str(round(slope,2)) + \"x + \" + str(round(intercept,2))\n",
    "plt.scatter(x_values,y_values)\n",
    "plt.plot(x_values,regress_values,\"r-\")\n",
    "plt.annotate(line_eq,(40,10),fontsize=15,color=\"red\")\n",
    "plt.title(f'Northern Hemisphere Humidity vs. Latitude')\n",
    "plt.xlabel('Latitude')\n",
    "plt.ylabel('Humidity (%)')\n",
    "print(f\"The r-value is: {r_value}\")\n",
    "\n",
    "# Save the figure\n",
    "plt.savefig(\"output/Northern Hemisphere Humidity vs Latitude.png\")\n",
    "\n",
    "\n",
    "plt.show()\n",
    "\n",
    "print('Analysis:')\n",
    "print(\"This plot is analyzing the current humidity of cities\")\n",
    "print(\"located in the northern hemisphere.\")\n",
    "print(\"Humidity seems mid to high for most cities in the northern hemisphere.\")\n",
    "print(\"There is a slight positive correlation closer to the equator.\")\n",
    "print(\"The low r-value tells us it is not representative of most of the data.\")"
   ]
  },
  {
   "cell_type": "markdown",
   "metadata": {},
   "source": [
    "####  Southern Hemisphere - Humidity (%) vs. Latitude Linear Regression"
   ]
  },
  {
   "cell_type": "code",
   "execution_count": 19,
   "metadata": {},
   "outputs": [
    {
     "name": "stdout",
     "output_type": "stream",
     "text": [
      "The r-value is: -0.10847120386799182\n"
     ]
    },
    {
     "data": {
      "image/png": "[encoded data removed]",
      "text/plain": [
       "<Figure size 432x288 with 1 Axes>"
      ]
     },
     "metadata": {
      "needs_background": "light"
     },
     "output_type": "display_data"
    },
    {
     "name": "stdout",
     "output_type": "stream",
     "text": [
      "Analysis:\n",
      "This plot is analyzing the current humidity of cities\n",
      "located in the southern hemisphere.\n",
      "Humidity seems mid to high for most cities in the southern hemisphere.\n",
      "There is a slight positive correlation for cities closer to the equator.\n",
      "The low r-value tells us it is not representative of most of the data.\n"
     ]
    }
   ],
   "source": [
    "x_values = southern_hem_df[\"Lat\"]\n",
    "y_values = southern_hem_df[\"Humidity\"]\n",
    "slope, intercept, r_value, p_value, stderr = linregress(x_values,y_values)\n",
    "regress_values=x_values*slope+intercept\n",
    "line_eq=\"y = \"+str(round(slope,2)) + \"x + \" + str(round(intercept,2))\n",
    "plt.scatter(x_values,y_values)\n",
    "plt.plot(x_values,regress_values,\"r-\")\n",
    "plt.annotate(line_eq,(-55,15),fontsize=15,color=\"red\")\n",
    "plt.title(f'Southern Hemisphere Humidity vs. Latitude')\n",
    "plt.xlabel('Latitude')\n",
    "plt.ylabel('Humidity (%)')\n",
    "print(f\"The r-value is: {r_value}\")\n",
    "\n",
    "# Save the figure\n",
    "plt.savefig(\"output/Southern Hemisphere Humidity vs Latitude.png\")\n",
    "\n",
    "\n",
    "plt.show()\n",
    "\n",
    "print('Analysis:')\n",
    "print(\"This plot is analyzing the current humidity of cities\")\n",
    "print(\"located in the southern hemisphere.\")\n",
    "print(\"Humidity seems mid to high for most cities in the southern hemisphere.\")\n",
    "print(\"There is a slight positive correlation for cities closer to the equator.\")\n",
    "print(\"The low r-value tells us it is not representative of most of the data.\")"
   ]
  },
  {
   "cell_type": "markdown",
   "metadata": {},
   "source": [
    "####  Northern Hemisphere - Cloudiness (%) vs. Latitude Linear Regression"
   ]
  },
  {
   "cell_type": "code",
   "execution_count": 20,
   "metadata": {},
   "outputs": [
    {
     "name": "stdout",
     "output_type": "stream",
     "text": [
      "The r-value is: -0.06375845387912314\n"
     ]
    },
    {
     "data": {
      "image/png": "[encoded data removed]",
      "text/plain": [
       "<Figure size 432x288 with 1 Axes>"
      ]
     },
     "metadata": {
      "needs_background": "light"
     },
     "output_type": "display_data"
    },
    {
     "name": "stdout",
     "output_type": "stream",
     "text": [
      "Analysis:\n",
      "This plot is analyzing the current cloudiness of cities\n",
      "located in the northern hemisphere.\n",
      "Cloudiness is split between extremely cloudy or not cloudy at all.\n",
      "There is a slight positive correlation for cities closer to the equator.\n",
      "The low r-value tells us it is not representative of most of the data\n",
      "but we can see on the graph that number is being swayed by both ends of the spectrum.\n"
     ]
    }
   ],
   "source": [
    "x_values = northern_hem_df[\"Lat\"]\n",
    "y_values = northern_hem_df[\"Cloudiness\"]\n",
    "slope, intercept, r_value, p_value, stderr = linregress(x_values,y_values)\n",
    "regress_values=x_values*slope+intercept\n",
    "line_eq=\"y = \"+str(round(slope,2)) + \"x + \" + str(round(intercept,2))\n",
    "plt.scatter(x_values,y_values)\n",
    "plt.plot(x_values,regress_values,\"r-\")\n",
    "plt.annotate(line_eq,(40,30),fontsize=15,color=\"red\")\n",
    "plt.title(f'Northern Hemisphere Cloudiness vs. Latitude')\n",
    "plt.xlabel('Latitude')\n",
    "plt.ylabel('Cloudiness (%)')\n",
    "print(f\"The r-value is: {r_value}\")\n",
    "\n",
    "# Save the figure\n",
    "plt.savefig(\"output/Northern Hemisphere Cloudiness vs Latitude.png\")\n",
    "\n",
    "\n",
    "plt.show()\n",
    "\n",
    "print('Analysis:')\n",
    "print(\"This plot is analyzing the current cloudiness of cities\")\n",
    "print(\"located in the northern hemisphere.\")\n",
    "print(\"Cloudiness is split between extremely cloudy or not cloudy at all.\")\n",
    "print(\"There is a slight positive correlation for cities closer to the equator.\")\n",
    "print(\"The low r-value tells us it is not representative of most of the data\")\n",
    "print(\"but we can see on the graph that number is being swayed by both ends of the spectrum.\")"
   ]
  },
  {
   "cell_type": "markdown",
   "metadata": {},
   "source": [
    "####  Southern Hemisphere - Cloudiness (%) vs. Latitude Linear Regression"
   ]
  },
  {
   "cell_type": "code",
   "execution_count": 21,
   "metadata": {},
   "outputs": [
    {
     "name": "stdout",
     "output_type": "stream",
     "text": [
      "The r-value is: -0.189139798918241\n"
     ]
    },
    {
     "data": {
      "image/png": "[encoded data removed]",
      "text/plain": [
       "<Figure size 432x288 with 1 Axes>"
      ]
     },
     "metadata": {
      "needs_background": "light"
     },
     "output_type": "display_data"
    },
    {
     "name": "stdout",
     "output_type": "stream",
     "text": [
      "Analysis:\n",
      "This plot is analyzing the current cloudiness of cities\n",
      "located in the southern hemisphere.\n",
      "There is a slight positive correlation for cities closer to the equator.\n",
      "The low r-value tells us it is not representative of most of the data\n"
     ]
    }
   ],
   "source": [
    "x_values = southern_hem_df[\"Lat\"]\n",
    "y_values = southern_hem_df[\"Cloudiness\"]\n",
    "slope, intercept, r_value, p_value, stderr = linregress(x_values,y_values)\n",
    "regress_values=x_values*slope+intercept\n",
    "line_eq=\"y = \"+str(round(slope,2)) + \"x + \" + str(round(intercept,2))\n",
    "plt.scatter(x_values,y_values)\n",
    "plt.plot(x_values,regress_values,\"r-\")\n",
    "plt.annotate(line_eq,(-55,25),fontsize=15,color=\"red\")\n",
    "plt.title(f'Southern Hemisphere Cloudiness vs. Latitude')\n",
    "plt.xlabel('Latitude')\n",
    "plt.ylabel('Cloudiness (%)')\n",
    "print(f\"The r-value is: {r_value}\")\n",
    "\n",
    "# Save the figure\n",
    "plt.savefig(\"output/Southern Hemisphere Cloudiness vs Latitude.png\")\n",
    "\n",
    "\n",
    "plt.show()\n",
    "\n",
    "print('Analysis:')\n",
    "print(\"This plot is analyzing the current cloudiness of cities\")\n",
    "print(\"located in the southern hemisphere.\")\n",
    "print(\"There is a slight positive correlation for cities closer to the equator.\")\n",
    "print(\"The low r-value tells us it is not representative of most of the data\")"
   ]
  },
  {
   "cell_type": "markdown",
   "metadata": {},
   "source": [
    "####  Northern Hemisphere - Wind Speed (mph) vs. Latitude Linear Regression"
   ]
  },
  {
   "cell_type": "code",
   "execution_count": 22,
   "metadata": {},
   "outputs": [
    {
     "name": "stdout",
     "output_type": "stream",
     "text": [
      "The r-value is: -0.018518768403364826\n"
     ]
    },
    {
     "data": {
      "image/png": "[encoded data removed]",
      "text/plain": [
       "<Figure size 432x288 with 1 Axes>"
      ]
     },
     "metadata": {
      "needs_background": "light"
     },
     "output_type": "display_data"
    },
    {
     "name": "stdout",
     "output_type": "stream",
     "text": [
      "Analysis:\n",
      "This plot is analyzing the current wind speed of cities\n",
      "located in the northern hemisphere.\n",
      "There is a slight positive correlation for cities closer to the equator.\n",
      "The low r-value tells us it is not representative of most of the data\n"
     ]
    }
   ],
   "source": [
    "x_values = northern_hem_df[\"Lat\"]\n",
    "y_values = northern_hem_df[\"Wind Speed\"]\n",
    "slope, intercept, r_value, p_value, stderr = linregress(x_values,y_values)\n",
    "regress_values=x_values*slope+intercept\n",
    "line_eq=\"y = \"+str(round(slope,2)) + \"x + \" + str(round(intercept,2))\n",
    "plt.scatter(x_values,y_values)\n",
    "plt.plot(x_values,regress_values,\"r-\")\n",
    "plt.annotate(line_eq,(40,30),fontsize=15,color=\"red\")\n",
    "plt.title(f'Northern Hemisphere Wind Speed vs. Latitude')\n",
    "plt.xlabel('Latitude')\n",
    "plt.ylabel('Wind Speed (mph)')\n",
    "print(f\"The r-value is: {r_value}\")\n",
    "\n",
    "# Save the figure\n",
    "plt.savefig(\"output/Northern Hemisphere Wind Speed vs Latitude.png\")\n",
    "\n",
    "\n",
    "plt.show()\n",
    "\n",
    "print('Analysis:')\n",
    "print(\"This plot is analyzing the current wind speed of cities\")\n",
    "print(\"located in the northern hemisphere.\")\n",
    "print(\"There is a slight positive correlation for cities closer to the equator.\")\n",
    "print(\"The low r-value tells us it is not representative of most of the data\")"
   ]
  },
  {
   "cell_type": "markdown",
   "metadata": {},
   "source": [
    "####  Southern Hemisphere - Wind Speed (mph) vs. Latitude Linear Regression"
   ]
  },
  {
   "cell_type": "code",
   "execution_count": 23,
   "metadata": {},
   "outputs": [
    {
     "name": "stdout",
     "output_type": "stream",
     "text": [
      "The r-value is: -0.04539335284664907\n"
     ]
    },
    {
     "data": {
      "image/png": "[encoded data removed]",
      "text/plain": [
       "<Figure size 432x288 with 1 Axes>"
      ]
     },
     "metadata": {
      "needs_background": "light"
     },
     "output_type": "display_data"
    },
    {
     "name": "stdout",
     "output_type": "stream",
     "text": [
      "Analysis:\n",
      "This plot is analyzing the current wind speed of cities\n",
      "located in the southern hemisphere.\n",
      "There is a slight negative correlation for cities closer to the equator.\n",
      "The low r-value tells us it is not representative of most of the data\n"
     ]
    }
   ],
   "source": [
    "x_values = southern_hem_df[\"Lat\"]\n",
    "y_values = southern_hem_df[\"Wind Speed\"]\n",
    "slope, intercept, r_value, p_value, stderr = linregress(x_values,y_values)\n",
    "regress_values=x_values*slope+intercept\n",
    "line_eq=\"y = \"+str(round(slope,2)) + \"x + \" + str(round(intercept,2))\n",
    "plt.scatter(x_values,y_values)\n",
    "plt.plot(x_values,regress_values,\"r-\")\n",
    "plt.annotate(line_eq,(-45,20),fontsize=15,color=\"red\")\n",
    "plt.title(f'Southern Hemisphere Wind Speed vs. Latitude')\n",
    "plt.xlabel('Latitude')\n",
    "plt.ylabel('Wind Speed (mph)')\n",
    "print(f\"The r-value is: {r_value}\")\n",
    "\n",
    "# Save the figure\n",
    "plt.savefig(\"output/Southern Hemisphere Wind Speed vs Latitude.png\")\n",
    "\n",
    "\n",
    "plt.show()\n",
    "\n",
    "print('Analysis:')\n",
    "print(\"This plot is analyzing the current wind speed of cities\")\n",
    "print(\"located in the southern hemisphere.\")\n",
    "print(\"There is a slight negative correlation for cities closer to the equator.\")\n",
    "print(\"The low r-value tells us it is not representative of most of the data\")"
   ]
  },
  {
   "cell_type": "code",
   "execution_count": null,
   "metadata": {},
   "outputs": [],
   "source": []
  },
  {
   "cell_type": "code",
   "execution_count": null,
   "metadata": {},
   "outputs": [],
   "source": []
  },
  {
   "cell_type": "code",
   "execution_count": null,
   "metadata": {},
   "outputs": [],
   "source": []
  }
 ],
 "metadata": {
  "anaconda-cloud": {},
  "kernel_info": {
   "name": "python3"
  },
  "kernelspec": {
   "display_name": "Python [conda env:PythonData] *",
   "language": "python",
   "name": "conda-env-PythonData-py"
  },
  "language_info": {
   "codemirror_mode": {
    "name": "ipython",
    "version": 3
   },
   "file_extension": ".py",
   "mimetype": "text/x-python",
   "name": "python",
   "nbconvert_exporter": "python",
   "pygments_lexer": "ipython3",
   "version": "3.6.10"
  },
  "latex_envs": {
   "LaTeX_envs_menu_present": true,
   "autoclose": false,
   "autocomplete": true,
   "bibliofile": "biblio.bib",
   "cite_by": "apalike",
   "current_citInitial": 1,
   "eqLabelWithNumbers": true,
   "eqNumInitial": 1,
   "hotkeys": {
    "equation": "Ctrl-E",
    "itemize": "Ctrl-I"
   },
   "labels_anchors": false,
   "latex_user_defs": false,
   "report_style_numbering": false,
   "user_envs_cfg": false
  },
  "nteract": {
   "version": "0.12.3"
  }
 },
 "nbformat": 4,
 "nbformat_minor": 2
}
